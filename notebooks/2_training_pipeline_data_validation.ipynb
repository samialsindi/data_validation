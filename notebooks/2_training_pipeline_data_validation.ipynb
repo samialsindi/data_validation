{
 "cells": [
  {
   "cell_type": "markdown",
   "metadata": {
    "pycharm": {
     "name": "#%% md\n"
    }
   },
   "source": [
    "# Data Validation in Training Pipelines\n"
   ]
  },
  {
   "cell_type": "markdown",
   "metadata": {
    "pycharm": {
     "name": "#%% md\n"
    }
   },
   "source": [
    "In this notebook, we will go through the process of validating dataframes in a training pipeline using Pandera."
   ]
  },
  {
   "cell_type": "markdown",
   "metadata": {
    "pycharm": {
     "name": "#%% md\n"
    }
   },
   "source": [
    "[![Open In Colab](https://colab.research.google.com/assets/colab-badge.svg)](https://colab.research.google.com/github/NatanMish/data_validation/blob/main/notebooks/2_training_pipeline_data_validation.ipynb)\n"
   ]
  },
  {
   "cell_type": "markdown",
   "metadata": {
    "pycharm": {
     "name": "#%% md\n"
    }
   },
   "source": [
    "#### Install the required packages and import them to the notebook"
   ]
  },
  {
   "cell_type": "code",
   "execution_count": 1,
   "metadata": {
    "pycharm": {
     "name": "#%%\n"
    }
   },
   "outputs": [
    {
     "name": "stdout",
     "output_type": "stream",
     "text": [
      "Collecting sklearn\n",
      "  Downloading sklearn-0.0.tar.gz (1.1 kB)\n",
      "Requirement already satisfied: pandas in /Users/samia/opt/anaconda3/envs/pydatalondon2022/lib/python3.8/site-packages (1.4.2)\n",
      "Collecting pandera\n",
      "  Downloading pandera-0.11.0-py3-none-any.whl (115 kB)\n",
      "\u001b[K     |████████████████████████████████| 115 kB 634 kB/s eta 0:00:01\n",
      "\u001b[?25hCollecting scikit-learn\n",
      "  Downloading scikit_learn-1.1.1-cp38-cp38-macosx_10_13_x86_64.whl (8.5 MB)\n",
      "\u001b[K     |████████████████████████████████| 8.5 MB 13.0 MB/s eta 0:00:01\n",
      "\u001b[?25hRequirement already satisfied: python-dateutil>=2.8.1 in /Users/samia/opt/anaconda3/envs/pydatalondon2022/lib/python3.8/site-packages (from pandas) (2.8.2)\n",
      "Requirement already satisfied: pytz>=2020.1 in /Users/samia/opt/anaconda3/envs/pydatalondon2022/lib/python3.8/site-packages (from pandas) (2022.1)\n",
      "Requirement already satisfied: numpy>=1.18.5 in /Users/samia/opt/anaconda3/envs/pydatalondon2022/lib/python3.8/site-packages (from pandas) (1.22.4)\n",
      "Requirement already satisfied: packaging>=20.0 in /Users/samia/opt/anaconda3/envs/pydatalondon2022/lib/python3.8/site-packages (from pandera) (21.3)\n",
      "Collecting wrapt\n",
      "  Downloading wrapt-1.14.1-cp38-cp38-macosx_10_9_x86_64.whl (35 kB)\n",
      "Collecting pyarrow\n",
      "  Downloading pyarrow-8.0.0-cp38-cp38-macosx_10_13_x86_64.whl (22.4 MB)\n",
      "\u001b[K     |████████████████████████████████| 22.4 MB 1.5 MB/s eta 0:00:01\n",
      "\u001b[?25hCollecting typing-inspect>=0.6.0\n",
      "  Downloading typing_inspect-0.7.1-py3-none-any.whl (8.4 kB)\n",
      "Collecting pydantic\n",
      "  Downloading pydantic-1.9.1-cp38-cp38-macosx_10_9_x86_64.whl (2.9 MB)\n",
      "\u001b[K     |████████████████████████████████| 2.9 MB 3.3 MB/s eta 0:00:01\n",
      "\u001b[?25hRequirement already satisfied: pyparsing!=3.0.5,>=2.0.2 in /Users/samia/opt/anaconda3/envs/pydatalondon2022/lib/python3.8/site-packages (from packaging>=20.0->pandera) (2.4.7)\n",
      "Requirement already satisfied: six>=1.5 in /Users/samia/opt/anaconda3/envs/pydatalondon2022/lib/python3.8/site-packages (from python-dateutil>=2.8.1->pandas) (1.16.0)\n",
      "Collecting mypy-extensions>=0.3.0\n",
      "  Downloading mypy_extensions-0.4.3-py2.py3-none-any.whl (4.5 kB)\n",
      "Requirement already satisfied: typing-extensions>=3.7.4 in /Users/samia/opt/anaconda3/envs/pydatalondon2022/lib/python3.8/site-packages (from typing-inspect>=0.6.0->pandera) (4.2.0)\n",
      "Collecting joblib>=1.0.0\n",
      "  Downloading joblib-1.1.0-py2.py3-none-any.whl (306 kB)\n",
      "\u001b[K     |████████████████████████████████| 306 kB 8.6 MB/s eta 0:00:01\n",
      "\u001b[?25hRequirement already satisfied: scipy>=1.3.2 in /Users/samia/opt/anaconda3/envs/pydatalondon2022/lib/python3.8/site-packages (from scikit-learn->sklearn) (1.8.1)\n",
      "Collecting threadpoolctl>=2.0.0\n",
      "  Downloading threadpoolctl-3.1.0-py3-none-any.whl (14 kB)\n",
      "Building wheels for collected packages: sklearn\n",
      "  Building wheel for sklearn (setup.py) ... \u001b[?25ldone\n",
      "\u001b[?25h  Created wheel for sklearn: filename=sklearn-0.0-py2.py3-none-any.whl size=1310 sha256=77f56adde6920cebc4a45a8084e9b68cf3e67d4f34ee9cc60cf716967ceaef3b\n",
      "  Stored in directory: /Users/samia/Library/Caches/pip/wheels/22/0b/40/fd3f795caaa1fb4c6cb738bc1f56100be1e57da95849bfc897\n",
      "Successfully built sklearn\n",
      "Installing collected packages: threadpoolctl, mypy-extensions, joblib, wrapt, typing-inspect, scikit-learn, pydantic, pyarrow, sklearn, pandera\n",
      "Successfully installed joblib-1.1.0 mypy-extensions-0.4.3 pandera-0.11.0 pyarrow-8.0.0 pydantic-1.9.1 scikit-learn-1.1.1 sklearn-0.0 threadpoolctl-3.1.0 typing-inspect-0.7.1 wrapt-1.14.1\n"
     ]
    }
   ],
   "source": [
    "!pip install sklearn pandas pandera"
   ]
  },
  {
   "cell_type": "code",
   "execution_count": 2,
   "metadata": {
    "pycharm": {
     "name": "#%%\n"
    }
   },
   "outputs": [],
   "source": [
    "import pandas as pd\n",
    "from sklearn.ensemble import RandomForestRegressor\n",
    "from sklearn.base import BaseEstimator\n",
    "from sklearn.pipeline import Pipeline\n",
    "from sklearn.preprocessing import StandardScaler\n",
    "import pandera as pa"
   ]
  },
  {
   "cell_type": "markdown",
   "metadata": {
    "pycharm": {
     "name": "#%% md\n"
    }
   },
   "source": [
    "#### Load the data"
   ]
  },
  {
   "cell_type": "code",
   "execution_count": 3,
   "metadata": {
    "pycharm": {
     "name": "#%%\n"
    }
   },
   "outputs": [],
   "source": [
    "home_data = pd.read_csv('https://github.com/NatanMish/data_validation/blob/a77b247b25c6622ce0c8f8cbc505228161c31a3c/data/train.csv?raw=true')"
   ]
  },
  {
   "cell_type": "markdown",
   "metadata": {
    "pycharm": {
     "name": "#%% md\n"
    }
   },
   "source": [
    "#### Train basic model\n",
    "We'll start by setting up a training pipeline using Scikit Learn's native class. We only want to select a few basic features for the purpose of this example, so we'll set up a pipeline step class that will select only those features."
   ]
  },
  {
   "cell_type": "code",
   "execution_count": 4,
   "metadata": {
    "pycharm": {
     "name": "#%%\n"
    }
   },
   "outputs": [],
   "source": [
    "class ChooseFeatures(BaseEstimator):\n",
    "    def __init__(self, features=None):\n",
    "        self.features = features\n",
    "    def fit(self, X, y=None):\n",
    "        return self\n",
    "    def transform(self, X, y=None):\n",
    "        return X[self.features]"
   ]
  },
  {
   "cell_type": "code",
   "execution_count": 5,
   "metadata": {
    "pycharm": {
     "name": "#%%\n"
    }
   },
   "outputs": [],
   "source": [
    "feature_names = ['LotArea','YearBuilt','1stFlrSF','2ndFlrSF','FullBath','BedroomAbvGr','TotRmsAbvGrd', 'LotFrontage']"
   ]
  },
  {
   "cell_type": "markdown",
   "metadata": {
    "pycharm": {
     "name": "#%% md\n"
    }
   },
   "source": [
    "Now we set up the pipeline and fit it to the data."
   ]
  },
  {
   "cell_type": "code",
   "execution_count": 6,
   "metadata": {
    "pycharm": {
     "name": "#%%\n"
    }
   },
   "outputs": [],
   "source": [
    "pipe = Pipeline([\n",
    "     ('feature_selection', ChooseFeatures(features=feature_names)),\n",
    "     ('scaler', StandardScaler()),\n",
    "     ('rf', RandomForestRegressor())\n",
    "])"
   ]
  },
  {
   "cell_type": "code",
   "execution_count": 7,
   "metadata": {
    "pycharm": {
     "name": "#%%\n"
    }
   },
   "outputs": [
    {
     "ename": "ValueError",
     "evalue": "Input X contains NaN.\nRandomForestRegressor does not accept missing values encoded as NaN natively. For supervised learning, you might want to consider sklearn.ensemble.HistGradientBoostingClassifier and Regressor which accept missing values encoded as NaNs natively. Alternatively, it is possible to preprocess the data, for instance by using an imputer transformer in a pipeline or drop samples with missing values. See https://scikit-learn.org/stable/modules/impute.html You can find a list of all estimators that handle NaN values at the following page: https://scikit-learn.org/stable/modules/impute.html#estimators-that-handle-nan-values",
     "output_type": "error",
     "traceback": [
      "\u001b[0;31m---------------------------------------------------------------------------\u001b[0m",
      "\u001b[0;31mValueError\u001b[0m                                Traceback (most recent call last)",
      "\u001b[1;32m/Users/samia/Downloads/PyDataLondon2022/Friday_TS2_0900/notebooks/2_training_pipeline_data_validation.ipynb Cell 14'\u001b[0m in \u001b[0;36m<cell line: 3>\u001b[0;34m()\u001b[0m\n\u001b[1;32m      <a href='vscode-notebook-cell:/Users/samia/Downloads/PyDataLondon2022/Friday_TS2_0900/notebooks/2_training_pipeline_data_validation.ipynb#ch0000013?line=0'>1</a>\u001b[0m X \u001b[39m=\u001b[39m home_data\n\u001b[1;32m      <a href='vscode-notebook-cell:/Users/samia/Downloads/PyDataLondon2022/Friday_TS2_0900/notebooks/2_training_pipeline_data_validation.ipynb#ch0000013?line=1'>2</a>\u001b[0m y \u001b[39m=\u001b[39m home_data\u001b[39m.\u001b[39mSalePrice\n\u001b[0;32m----> <a href='vscode-notebook-cell:/Users/samia/Downloads/PyDataLondon2022/Friday_TS2_0900/notebooks/2_training_pipeline_data_validation.ipynb#ch0000013?line=2'>3</a>\u001b[0m pipe\u001b[39m.\u001b[39;49mfit(home_data, y)\n",
      "File \u001b[0;32m~/opt/anaconda3/envs/pydatalondon2022/lib/python3.8/site-packages/sklearn/pipeline.py:382\u001b[0m, in \u001b[0;36mPipeline.fit\u001b[0;34m(self, X, y, **fit_params)\u001b[0m\n\u001b[1;32m    380\u001b[0m     \u001b[39mif\u001b[39;00m \u001b[39mself\u001b[39m\u001b[39m.\u001b[39m_final_estimator \u001b[39m!=\u001b[39m \u001b[39m\"\u001b[39m\u001b[39mpassthrough\u001b[39m\u001b[39m\"\u001b[39m:\n\u001b[1;32m    381\u001b[0m         fit_params_last_step \u001b[39m=\u001b[39m fit_params_steps[\u001b[39mself\u001b[39m\u001b[39m.\u001b[39msteps[\u001b[39m-\u001b[39m\u001b[39m1\u001b[39m][\u001b[39m0\u001b[39m]]\n\u001b[0;32m--> 382\u001b[0m         \u001b[39mself\u001b[39;49m\u001b[39m.\u001b[39;49m_final_estimator\u001b[39m.\u001b[39;49mfit(Xt, y, \u001b[39m*\u001b[39;49m\u001b[39m*\u001b[39;49mfit_params_last_step)\n\u001b[1;32m    384\u001b[0m \u001b[39mreturn\u001b[39;00m \u001b[39mself\u001b[39m\n",
      "File \u001b[0;32m~/opt/anaconda3/envs/pydatalondon2022/lib/python3.8/site-packages/sklearn/ensemble/_forest.py:331\u001b[0m, in \u001b[0;36mBaseForest.fit\u001b[0;34m(self, X, y, sample_weight)\u001b[0m\n\u001b[1;32m    329\u001b[0m \u001b[39mif\u001b[39;00m issparse(y):\n\u001b[1;32m    330\u001b[0m     \u001b[39mraise\u001b[39;00m \u001b[39mValueError\u001b[39;00m(\u001b[39m\"\u001b[39m\u001b[39msparse multilabel-indicator for y is not supported.\u001b[39m\u001b[39m\"\u001b[39m)\n\u001b[0;32m--> 331\u001b[0m X, y \u001b[39m=\u001b[39m \u001b[39mself\u001b[39;49m\u001b[39m.\u001b[39;49m_validate_data(\n\u001b[1;32m    332\u001b[0m     X, y, multi_output\u001b[39m=\u001b[39;49m\u001b[39mTrue\u001b[39;49;00m, accept_sparse\u001b[39m=\u001b[39;49m\u001b[39m\"\u001b[39;49m\u001b[39mcsc\u001b[39;49m\u001b[39m\"\u001b[39;49m, dtype\u001b[39m=\u001b[39;49mDTYPE\n\u001b[1;32m    333\u001b[0m )\n\u001b[1;32m    334\u001b[0m \u001b[39mif\u001b[39;00m sample_weight \u001b[39mis\u001b[39;00m \u001b[39mnot\u001b[39;00m \u001b[39mNone\u001b[39;00m:\n\u001b[1;32m    335\u001b[0m     sample_weight \u001b[39m=\u001b[39m _check_sample_weight(sample_weight, X)\n",
      "File \u001b[0;32m~/opt/anaconda3/envs/pydatalondon2022/lib/python3.8/site-packages/sklearn/base.py:596\u001b[0m, in \u001b[0;36mBaseEstimator._validate_data\u001b[0;34m(self, X, y, reset, validate_separately, **check_params)\u001b[0m\n\u001b[1;32m    594\u001b[0m         y \u001b[39m=\u001b[39m check_array(y, input_name\u001b[39m=\u001b[39m\u001b[39m\"\u001b[39m\u001b[39my\u001b[39m\u001b[39m\"\u001b[39m, \u001b[39m*\u001b[39m\u001b[39m*\u001b[39mcheck_y_params)\n\u001b[1;32m    595\u001b[0m     \u001b[39melse\u001b[39;00m:\n\u001b[0;32m--> 596\u001b[0m         X, y \u001b[39m=\u001b[39m check_X_y(X, y, \u001b[39m*\u001b[39;49m\u001b[39m*\u001b[39;49mcheck_params)\n\u001b[1;32m    597\u001b[0m     out \u001b[39m=\u001b[39m X, y\n\u001b[1;32m    599\u001b[0m \u001b[39mif\u001b[39;00m \u001b[39mnot\u001b[39;00m no_val_X \u001b[39mand\u001b[39;00m check_params\u001b[39m.\u001b[39mget(\u001b[39m\"\u001b[39m\u001b[39mensure_2d\u001b[39m\u001b[39m\"\u001b[39m, \u001b[39mTrue\u001b[39;00m):\n",
      "File \u001b[0;32m~/opt/anaconda3/envs/pydatalondon2022/lib/python3.8/site-packages/sklearn/utils/validation.py:1074\u001b[0m, in \u001b[0;36mcheck_X_y\u001b[0;34m(X, y, accept_sparse, accept_large_sparse, dtype, order, copy, force_all_finite, ensure_2d, allow_nd, multi_output, ensure_min_samples, ensure_min_features, y_numeric, estimator)\u001b[0m\n\u001b[1;32m   1069\u001b[0m         estimator_name \u001b[39m=\u001b[39m _check_estimator_name(estimator)\n\u001b[1;32m   1070\u001b[0m     \u001b[39mraise\u001b[39;00m \u001b[39mValueError\u001b[39;00m(\n\u001b[1;32m   1071\u001b[0m         \u001b[39mf\u001b[39m\u001b[39m\"\u001b[39m\u001b[39m{\u001b[39;00mestimator_name\u001b[39m}\u001b[39;00m\u001b[39m requires y to be passed, but the target y is None\u001b[39m\u001b[39m\"\u001b[39m\n\u001b[1;32m   1072\u001b[0m     )\n\u001b[0;32m-> 1074\u001b[0m X \u001b[39m=\u001b[39m check_array(\n\u001b[1;32m   1075\u001b[0m     X,\n\u001b[1;32m   1076\u001b[0m     accept_sparse\u001b[39m=\u001b[39;49maccept_sparse,\n\u001b[1;32m   1077\u001b[0m     accept_large_sparse\u001b[39m=\u001b[39;49maccept_large_sparse,\n\u001b[1;32m   1078\u001b[0m     dtype\u001b[39m=\u001b[39;49mdtype,\n\u001b[1;32m   1079\u001b[0m     order\u001b[39m=\u001b[39;49morder,\n\u001b[1;32m   1080\u001b[0m     copy\u001b[39m=\u001b[39;49mcopy,\n\u001b[1;32m   1081\u001b[0m     force_all_finite\u001b[39m=\u001b[39;49mforce_all_finite,\n\u001b[1;32m   1082\u001b[0m     ensure_2d\u001b[39m=\u001b[39;49mensure_2d,\n\u001b[1;32m   1083\u001b[0m     allow_nd\u001b[39m=\u001b[39;49mallow_nd,\n\u001b[1;32m   1084\u001b[0m     ensure_min_samples\u001b[39m=\u001b[39;49mensure_min_samples,\n\u001b[1;32m   1085\u001b[0m     ensure_min_features\u001b[39m=\u001b[39;49mensure_min_features,\n\u001b[1;32m   1086\u001b[0m     estimator\u001b[39m=\u001b[39;49mestimator,\n\u001b[1;32m   1087\u001b[0m     input_name\u001b[39m=\u001b[39;49m\u001b[39m\"\u001b[39;49m\u001b[39mX\u001b[39;49m\u001b[39m\"\u001b[39;49m,\n\u001b[1;32m   1088\u001b[0m )\n\u001b[1;32m   1090\u001b[0m y \u001b[39m=\u001b[39m _check_y(y, multi_output\u001b[39m=\u001b[39mmulti_output, y_numeric\u001b[39m=\u001b[39my_numeric, estimator\u001b[39m=\u001b[39mestimator)\n\u001b[1;32m   1092\u001b[0m check_consistent_length(X, y)\n",
      "File \u001b[0;32m~/opt/anaconda3/envs/pydatalondon2022/lib/python3.8/site-packages/sklearn/utils/validation.py:899\u001b[0m, in \u001b[0;36mcheck_array\u001b[0;34m(array, accept_sparse, accept_large_sparse, dtype, order, copy, force_all_finite, ensure_2d, allow_nd, ensure_min_samples, ensure_min_features, estimator, input_name)\u001b[0m\n\u001b[1;32m    893\u001b[0m         \u001b[39mraise\u001b[39;00m \u001b[39mValueError\u001b[39;00m(\n\u001b[1;32m    894\u001b[0m             \u001b[39m\"\u001b[39m\u001b[39mFound array with dim \u001b[39m\u001b[39m%d\u001b[39;00m\u001b[39m. \u001b[39m\u001b[39m%s\u001b[39;00m\u001b[39m expected <= 2.\u001b[39m\u001b[39m\"\u001b[39m\n\u001b[1;32m    895\u001b[0m             \u001b[39m%\u001b[39m (array\u001b[39m.\u001b[39mndim, estimator_name)\n\u001b[1;32m    896\u001b[0m         )\n\u001b[1;32m    898\u001b[0m     \u001b[39mif\u001b[39;00m force_all_finite:\n\u001b[0;32m--> 899\u001b[0m         _assert_all_finite(\n\u001b[1;32m    900\u001b[0m             array,\n\u001b[1;32m    901\u001b[0m             input_name\u001b[39m=\u001b[39;49minput_name,\n\u001b[1;32m    902\u001b[0m             estimator_name\u001b[39m=\u001b[39;49mestimator_name,\n\u001b[1;32m    903\u001b[0m             allow_nan\u001b[39m=\u001b[39;49mforce_all_finite \u001b[39m==\u001b[39;49m \u001b[39m\"\u001b[39;49m\u001b[39mallow-nan\u001b[39;49m\u001b[39m\"\u001b[39;49m,\n\u001b[1;32m    904\u001b[0m         )\n\u001b[1;32m    906\u001b[0m \u001b[39mif\u001b[39;00m ensure_min_samples \u001b[39m>\u001b[39m \u001b[39m0\u001b[39m:\n\u001b[1;32m    907\u001b[0m     n_samples \u001b[39m=\u001b[39m _num_samples(array)\n",
      "File \u001b[0;32m~/opt/anaconda3/envs/pydatalondon2022/lib/python3.8/site-packages/sklearn/utils/validation.py:146\u001b[0m, in \u001b[0;36m_assert_all_finite\u001b[0;34m(X, allow_nan, msg_dtype, estimator_name, input_name)\u001b[0m\n\u001b[1;32m    124\u001b[0m         \u001b[39mif\u001b[39;00m (\n\u001b[1;32m    125\u001b[0m             \u001b[39mnot\u001b[39;00m allow_nan\n\u001b[1;32m    126\u001b[0m             \u001b[39mand\u001b[39;00m estimator_name\n\u001b[0;32m   (...)\u001b[0m\n\u001b[1;32m    130\u001b[0m             \u001b[39m# Improve the error message on how to handle missing values in\u001b[39;00m\n\u001b[1;32m    131\u001b[0m             \u001b[39m# scikit-learn.\u001b[39;00m\n\u001b[1;32m    132\u001b[0m             msg_err \u001b[39m+\u001b[39m\u001b[39m=\u001b[39m (\n\u001b[1;32m    133\u001b[0m                 \u001b[39mf\u001b[39m\u001b[39m\"\u001b[39m\u001b[39m\\n\u001b[39;00m\u001b[39m{\u001b[39;00mestimator_name\u001b[39m}\u001b[39;00m\u001b[39m does not accept missing values\u001b[39m\u001b[39m\"\u001b[39m\n\u001b[1;32m    134\u001b[0m                 \u001b[39m\"\u001b[39m\u001b[39m encoded as NaN natively. For supervised learning, you might want\u001b[39m\u001b[39m\"\u001b[39m\n\u001b[0;32m   (...)\u001b[0m\n\u001b[1;32m    144\u001b[0m                 \u001b[39m\"\u001b[39m\u001b[39m#estimators-that-handle-nan-values\u001b[39m\u001b[39m\"\u001b[39m\n\u001b[1;32m    145\u001b[0m             )\n\u001b[0;32m--> 146\u001b[0m         \u001b[39mraise\u001b[39;00m \u001b[39mValueError\u001b[39;00m(msg_err)\n\u001b[1;32m    148\u001b[0m \u001b[39m# for object dtype data, we only check for NaNs (GH-13254)\u001b[39;00m\n\u001b[1;32m    149\u001b[0m \u001b[39melif\u001b[39;00m X\u001b[39m.\u001b[39mdtype \u001b[39m==\u001b[39m np\u001b[39m.\u001b[39mdtype(\u001b[39m\"\u001b[39m\u001b[39mobject\u001b[39m\u001b[39m\"\u001b[39m) \u001b[39mand\u001b[39;00m \u001b[39mnot\u001b[39;00m allow_nan:\n",
      "\u001b[0;31mValueError\u001b[0m: Input X contains NaN.\nRandomForestRegressor does not accept missing values encoded as NaN natively. For supervised learning, you might want to consider sklearn.ensemble.HistGradientBoostingClassifier and Regressor which accept missing values encoded as NaNs natively. Alternatively, it is possible to preprocess the data, for instance by using an imputer transformer in a pipeline or drop samples with missing values. See https://scikit-learn.org/stable/modules/impute.html You can find a list of all estimators that handle NaN values at the following page: https://scikit-learn.org/stable/modules/impute.html#estimators-that-handle-nan-values"
     ]
    }
   ],
   "source": [
    "X = home_data\n",
    "y = home_data.SalePrice\n",
    "pipe.fit(home_data, y)"
   ]
  },
  {
   "cell_type": "markdown",
   "metadata": {
    "pycharm": {
     "name": "#%% md\n"
    }
   },
   "source": [
    "Looks like our data has null values and this causes the model to break. Let's take a look at Pandera to see how it can help us with this."
   ]
  },
  {
   "cell_type": "markdown",
   "metadata": {
    "pycharm": {
     "name": "#%% md\n"
    }
   },
   "source": [
    "<div>\n",
    "<img src=\"https://raw.githubusercontent.com/pandera-dev/pandera/master/docs/source/_static/pandera-banner.png\" width=\"500\"/>\n",
    "</div>"
   ]
  },
  {
   "cell_type": "markdown",
   "metadata": {
    "pycharm": {
     "name": "#%% md\n"
    }
   },
   "source": [
    "Pandera provides a flexible and expressive API for performing data validation on dataframes to make data processing pipelines more readable and robust. Dataframes contain information that pandera explicitly validates at runtime. This is useful in production-critical data pipelines or reproducible research settings. We'll take a look at these Pandera features:\n",
    "\n",
    "1. Check the types and properties of columns in a pd.DataFrame or values in a pd.Series.\n",
    "\n",
    "2. Perform more complex statistical validation like hypothesis testing.\n",
    "\n",
    "3. Integrate with existing data analysis/processing pipelines via function decorators.\n",
    "\n",
    "4. Define schema models with the class-based API with pydantic-style syntax and validate dataframes using the typing syntax.\n",
    "\n",
    "5. Synthesize data from schema objects for property-based testing with pandas data structures.\n",
    "\n",
    "6. Lazily Validate dataframes so that all validation rules are executed before raising an error.\n",
    "\n",
    "For more information, see [Pandera's documentation](https://pandera.readthedocs.io/en/latest/)."
   ]
  },
  {
   "cell_type": "markdown",
   "metadata": {
    "pycharm": {
     "name": "#%% md\n"
    }
   },
   "source": [
    "#### 1. DataFrame Schemas - Type Validation"
   ]
  },
  {
   "cell_type": "code",
   "execution_count": 8,
   "metadata": {
    "pycharm": {
     "name": "#%%\n"
    }
   },
   "outputs": [],
   "source": [
    "# We'll add one more feature to make it more interesting\n",
    "feature_names.append('LotConfig')"
   ]
  },
  {
   "cell_type": "code",
   "execution_count": 9,
   "metadata": {
    "pycharm": {
     "name": "#%%\n"
    }
   },
   "outputs": [],
   "source": [
    "# Create a basic schema for the home_data DataFrame to check types for just 2 of the feature\n",
    "basic_types_schema = pa.DataFrameSchema({\n",
    "    \"LotArea\": pa.Column(int),\n",
    "    \"LotConfig\": pa.Column(str),\n",
    "    })"
   ]
  },
  {
   "cell_type": "code",
   "execution_count": 10,
   "metadata": {
    "pycharm": {
     "name": "#%%\n"
    }
   },
   "outputs": [
    {
     "data": {
      "text/html": [
       "<div>\n",
       "<style scoped>\n",
       "    .dataframe tbody tr th:only-of-type {\n",
       "        vertical-align: middle;\n",
       "    }\n",
       "\n",
       "    .dataframe tbody tr th {\n",
       "        vertical-align: top;\n",
       "    }\n",
       "\n",
       "    .dataframe thead th {\n",
       "        text-align: right;\n",
       "    }\n",
       "</style>\n",
       "<table border=\"1\" class=\"dataframe\">\n",
       "  <thead>\n",
       "    <tr style=\"text-align: right;\">\n",
       "      <th></th>\n",
       "      <th>LotArea</th>\n",
       "      <th>YearBuilt</th>\n",
       "      <th>1stFlrSF</th>\n",
       "      <th>2ndFlrSF</th>\n",
       "      <th>FullBath</th>\n",
       "      <th>BedroomAbvGr</th>\n",
       "      <th>TotRmsAbvGrd</th>\n",
       "      <th>LotFrontage</th>\n",
       "      <th>LotConfig</th>\n",
       "    </tr>\n",
       "  </thead>\n",
       "  <tbody>\n",
       "    <tr>\n",
       "      <th>0</th>\n",
       "      <td>8450</td>\n",
       "      <td>2003</td>\n",
       "      <td>856</td>\n",
       "      <td>854</td>\n",
       "      <td>2</td>\n",
       "      <td>3</td>\n",
       "      <td>8</td>\n",
       "      <td>65.0</td>\n",
       "      <td>Inside</td>\n",
       "    </tr>\n",
       "    <tr>\n",
       "      <th>1</th>\n",
       "      <td>9600</td>\n",
       "      <td>1976</td>\n",
       "      <td>1262</td>\n",
       "      <td>0</td>\n",
       "      <td>2</td>\n",
       "      <td>3</td>\n",
       "      <td>6</td>\n",
       "      <td>80.0</td>\n",
       "      <td>FR2</td>\n",
       "    </tr>\n",
       "    <tr>\n",
       "      <th>2</th>\n",
       "      <td>11250</td>\n",
       "      <td>2001</td>\n",
       "      <td>920</td>\n",
       "      <td>866</td>\n",
       "      <td>2</td>\n",
       "      <td>3</td>\n",
       "      <td>6</td>\n",
       "      <td>68.0</td>\n",
       "      <td>Inside</td>\n",
       "    </tr>\n",
       "    <tr>\n",
       "      <th>3</th>\n",
       "      <td>9550</td>\n",
       "      <td>1915</td>\n",
       "      <td>961</td>\n",
       "      <td>756</td>\n",
       "      <td>1</td>\n",
       "      <td>3</td>\n",
       "      <td>7</td>\n",
       "      <td>60.0</td>\n",
       "      <td>Corner</td>\n",
       "    </tr>\n",
       "    <tr>\n",
       "      <th>4</th>\n",
       "      <td>14260</td>\n",
       "      <td>2000</td>\n",
       "      <td>1145</td>\n",
       "      <td>1053</td>\n",
       "      <td>2</td>\n",
       "      <td>4</td>\n",
       "      <td>9</td>\n",
       "      <td>84.0</td>\n",
       "      <td>FR2</td>\n",
       "    </tr>\n",
       "    <tr>\n",
       "      <th>...</th>\n",
       "      <td>...</td>\n",
       "      <td>...</td>\n",
       "      <td>...</td>\n",
       "      <td>...</td>\n",
       "      <td>...</td>\n",
       "      <td>...</td>\n",
       "      <td>...</td>\n",
       "      <td>...</td>\n",
       "      <td>...</td>\n",
       "    </tr>\n",
       "    <tr>\n",
       "      <th>1455</th>\n",
       "      <td>7917</td>\n",
       "      <td>1999</td>\n",
       "      <td>953</td>\n",
       "      <td>694</td>\n",
       "      <td>2</td>\n",
       "      <td>3</td>\n",
       "      <td>7</td>\n",
       "      <td>62.0</td>\n",
       "      <td>Inside</td>\n",
       "    </tr>\n",
       "    <tr>\n",
       "      <th>1456</th>\n",
       "      <td>13175</td>\n",
       "      <td>1978</td>\n",
       "      <td>2073</td>\n",
       "      <td>0</td>\n",
       "      <td>2</td>\n",
       "      <td>3</td>\n",
       "      <td>7</td>\n",
       "      <td>85.0</td>\n",
       "      <td>Inside</td>\n",
       "    </tr>\n",
       "    <tr>\n",
       "      <th>1457</th>\n",
       "      <td>9042</td>\n",
       "      <td>1941</td>\n",
       "      <td>1188</td>\n",
       "      <td>1152</td>\n",
       "      <td>2</td>\n",
       "      <td>4</td>\n",
       "      <td>9</td>\n",
       "      <td>66.0</td>\n",
       "      <td>Inside</td>\n",
       "    </tr>\n",
       "    <tr>\n",
       "      <th>1458</th>\n",
       "      <td>9717</td>\n",
       "      <td>1950</td>\n",
       "      <td>1078</td>\n",
       "      <td>0</td>\n",
       "      <td>1</td>\n",
       "      <td>2</td>\n",
       "      <td>5</td>\n",
       "      <td>68.0</td>\n",
       "      <td>Inside</td>\n",
       "    </tr>\n",
       "    <tr>\n",
       "      <th>1459</th>\n",
       "      <td>9937</td>\n",
       "      <td>1965</td>\n",
       "      <td>1256</td>\n",
       "      <td>0</td>\n",
       "      <td>1</td>\n",
       "      <td>3</td>\n",
       "      <td>6</td>\n",
       "      <td>75.0</td>\n",
       "      <td>Inside</td>\n",
       "    </tr>\n",
       "  </tbody>\n",
       "</table>\n",
       "<p>1460 rows × 9 columns</p>\n",
       "</div>"
      ],
      "text/plain": [
       "      LotArea  YearBuilt  1stFlrSF  2ndFlrSF  FullBath  BedroomAbvGr  \\\n",
       "0        8450       2003       856       854         2             3   \n",
       "1        9600       1976      1262         0         2             3   \n",
       "2       11250       2001       920       866         2             3   \n",
       "3        9550       1915       961       756         1             3   \n",
       "4       14260       2000      1145      1053         2             4   \n",
       "...       ...        ...       ...       ...       ...           ...   \n",
       "1455     7917       1999       953       694         2             3   \n",
       "1456    13175       1978      2073         0         2             3   \n",
       "1457     9042       1941      1188      1152         2             4   \n",
       "1458     9717       1950      1078         0         1             2   \n",
       "1459     9937       1965      1256         0         1             3   \n",
       "\n",
       "      TotRmsAbvGrd  LotFrontage LotConfig  \n",
       "0                8         65.0    Inside  \n",
       "1                6         80.0       FR2  \n",
       "2                6         68.0    Inside  \n",
       "3                7         60.0    Corner  \n",
       "4                9         84.0       FR2  \n",
       "...            ...          ...       ...  \n",
       "1455             7         62.0    Inside  \n",
       "1456             7         85.0    Inside  \n",
       "1457             9         66.0    Inside  \n",
       "1458             5         68.0    Inside  \n",
       "1459             6         75.0    Inside  \n",
       "\n",
       "[1460 rows x 9 columns]"
      ]
     },
     "execution_count": 10,
     "metadata": {},
     "output_type": "execute_result"
    }
   ],
   "source": [
    "# Validate the home_data DataFrame against the basic_schema\n",
    "# notice that although we only defined two of the features in the dataframe, and Pandera ignored the rest.\n",
    "basic_types_schema.validate(home_data[feature_names])"
   ]
  },
  {
   "cell_type": "markdown",
   "metadata": {
    "pycharm": {
     "name": "#%% md\n"
    }
   },
   "source": [
    "There is an output from the validation, this means that the data is valid.\n",
    "There are different ways we can specify the type:\n",
    "- a string alias, as long as it is recognized by pandas.\n",
    "- a python type: int, float, double, bool, str\n",
    "- a numpy data type\n",
    "- a pandas extension type: it can be an instance (e.g pd.CategoricalDtype([“a”, “b”])) or a class (e.g pandas.CategoricalDtype) if it can be initialized with default values.\n",
    "- a pandera DataType: it can also be an instance or a class."
   ]
  },
  {
   "cell_type": "code",
   "execution_count": 11,
   "metadata": {
    "pycharm": {
     "name": "#%%\n"
    }
   },
   "outputs": [],
   "source": [
    "# Now let's create a schema that does not fit the data types in home data\n",
    "bad_types_schema = pa.DataFrameSchema({\n",
    "    \"LotArea\": pa.Column(int),\n",
    "    \"LotConfig\": pa.Column(float),\n",
    "})"
   ]
  },
  {
   "cell_type": "code",
   "execution_count": 12,
   "metadata": {
    "pycharm": {
     "name": "#%%\n"
    }
   },
   "outputs": [
    {
     "ename": "SchemaError",
     "evalue": "expected series 'LotConfig' to have type float64, got object",
     "output_type": "error",
     "traceback": [
      "\u001b[0;31m---------------------------------------------------------------------------\u001b[0m",
      "\u001b[0;31mSchemaError\u001b[0m                               Traceback (most recent call last)",
      "\u001b[1;32m/Users/samia/Downloads/PyDataLondon2022/Friday_TS2_0900/notebooks/2_training_pipeline_data_validation.ipynb Cell 24'\u001b[0m in \u001b[0;36m<cell line: 2>\u001b[0;34m()\u001b[0m\n\u001b[1;32m      <a href='vscode-notebook-cell:/Users/samia/Downloads/PyDataLondon2022/Friday_TS2_0900/notebooks/2_training_pipeline_data_validation.ipynb#ch0000023?line=0'>1</a>\u001b[0m \u001b[39m# The bad schema validation will throw an error\u001b[39;00m\n\u001b[0;32m----> <a href='vscode-notebook-cell:/Users/samia/Downloads/PyDataLondon2022/Friday_TS2_0900/notebooks/2_training_pipeline_data_validation.ipynb#ch0000023?line=1'>2</a>\u001b[0m bad_types_schema\u001b[39m.\u001b[39;49mvalidate(home_data[feature_names])\n",
      "File \u001b[0;32m~/opt/anaconda3/envs/pydatalondon2022/lib/python3.8/site-packages/pandera/schemas.py:515\u001b[0m, in \u001b[0;36mDataFrameSchema.validate\u001b[0;34m(self, check_obj, head, tail, sample, random_state, lazy, inplace)\u001b[0m\n\u001b[1;32m    502\u001b[0m     check_obj \u001b[39m=\u001b[39m check_obj\u001b[39m.\u001b[39mmap_partitions(\n\u001b[1;32m    503\u001b[0m         \u001b[39mself\u001b[39m\u001b[39m.\u001b[39m_validate,\n\u001b[1;32m    504\u001b[0m         head\u001b[39m=\u001b[39mhead,\n\u001b[0;32m   (...)\u001b[0m\n\u001b[1;32m    510\u001b[0m         meta\u001b[39m=\u001b[39mcheck_obj,\n\u001b[1;32m    511\u001b[0m     )\n\u001b[1;32m    513\u001b[0m     \u001b[39mreturn\u001b[39;00m check_obj\u001b[39m.\u001b[39mpandera\u001b[39m.\u001b[39madd_schema(\u001b[39mself\u001b[39m)\n\u001b[0;32m--> 515\u001b[0m \u001b[39mreturn\u001b[39;00m \u001b[39mself\u001b[39;49m\u001b[39m.\u001b[39;49m_validate(\n\u001b[1;32m    516\u001b[0m     check_obj\u001b[39m=\u001b[39;49mcheck_obj,\n\u001b[1;32m    517\u001b[0m     head\u001b[39m=\u001b[39;49mhead,\n\u001b[1;32m    518\u001b[0m     tail\u001b[39m=\u001b[39;49mtail,\n\u001b[1;32m    519\u001b[0m     sample\u001b[39m=\u001b[39;49msample,\n\u001b[1;32m    520\u001b[0m     random_state\u001b[39m=\u001b[39;49mrandom_state,\n\u001b[1;32m    521\u001b[0m     lazy\u001b[39m=\u001b[39;49mlazy,\n\u001b[1;32m    522\u001b[0m     inplace\u001b[39m=\u001b[39;49minplace,\n\u001b[1;32m    523\u001b[0m )\n",
      "File \u001b[0;32m~/opt/anaconda3/envs/pydatalondon2022/lib/python3.8/site-packages/pandera/schemas.py:712\u001b[0m, in \u001b[0;36mDataFrameSchema._validate\u001b[0;34m(self, check_obj, head, tail, sample, random_state, lazy, inplace)\u001b[0m\n\u001b[1;32m    710\u001b[0m     check_results\u001b[39m.\u001b[39mappend(check_utils\u001b[39m.\u001b[39mis_table(result))\n\u001b[1;32m    711\u001b[0m \u001b[39mexcept\u001b[39;00m errors\u001b[39m.\u001b[39mSchemaError \u001b[39mas\u001b[39;00m err:\n\u001b[0;32m--> 712\u001b[0m     error_handler\u001b[39m.\u001b[39;49mcollect_error(\u001b[39m\"\u001b[39;49m\u001b[39mschema_component_check\u001b[39;49m\u001b[39m\"\u001b[39;49m, err)\n\u001b[1;32m    713\u001b[0m \u001b[39mexcept\u001b[39;00m errors\u001b[39m.\u001b[39mSchemaErrors \u001b[39mas\u001b[39;00m err:\n\u001b[1;32m    714\u001b[0m     \u001b[39mfor\u001b[39;00m schema_error_dict \u001b[39min\u001b[39;00m err\u001b[39m.\u001b[39mschema_errors:\n",
      "File \u001b[0;32m~/opt/anaconda3/envs/pydatalondon2022/lib/python3.8/site-packages/pandera/error_handlers.py:32\u001b[0m, in \u001b[0;36mSchemaErrorHandler.collect_error\u001b[0;34m(self, reason_code, schema_error, original_exc)\u001b[0m\n\u001b[1;32m     26\u001b[0m \u001b[39m\"\"\"Collect schema error, raising exception if lazy is False.\u001b[39;00m\n\u001b[1;32m     27\u001b[0m \n\u001b[1;32m     28\u001b[0m \u001b[39m:param reason_code: string representing reason for error\u001b[39;00m\n\u001b[1;32m     29\u001b[0m \u001b[39m:param schema_error: ``SchemaError`` object.\u001b[39;00m\n\u001b[1;32m     30\u001b[0m \u001b[39m\"\"\"\u001b[39;00m\n\u001b[1;32m     31\u001b[0m \u001b[39mif\u001b[39;00m \u001b[39mnot\u001b[39;00m \u001b[39mself\u001b[39m\u001b[39m.\u001b[39m_lazy:\n\u001b[0;32m---> 32\u001b[0m     \u001b[39mraise\u001b[39;00m schema_error \u001b[39mfrom\u001b[39;00m \u001b[39moriginal_exc\u001b[39;00m\n\u001b[1;32m     34\u001b[0m \u001b[39m# delete data of validated object from SchemaError object to prevent\u001b[39;00m\n\u001b[1;32m     35\u001b[0m \u001b[39m# storing copies of the validated DataFrame/Series for every\u001b[39;00m\n\u001b[1;32m     36\u001b[0m \u001b[39m# SchemaError collected.\u001b[39;00m\n\u001b[1;32m     37\u001b[0m \u001b[39mdel\u001b[39;00m schema_error\u001b[39m.\u001b[39mdata\n",
      "File \u001b[0;32m~/opt/anaconda3/envs/pydatalondon2022/lib/python3.8/site-packages/pandera/schemas.py:704\u001b[0m, in \u001b[0;36mDataFrameSchema._validate\u001b[0;34m(self, check_obj, head, tail, sample, random_state, lazy, inplace)\u001b[0m\n\u001b[1;32m    702\u001b[0m \u001b[39mfor\u001b[39;00m schema_component \u001b[39min\u001b[39;00m schema_components:\n\u001b[1;32m    703\u001b[0m     \u001b[39mtry\u001b[39;00m:\n\u001b[0;32m--> 704\u001b[0m         result \u001b[39m=\u001b[39m schema_component(\n\u001b[1;32m    705\u001b[0m             df_to_validate,\n\u001b[1;32m    706\u001b[0m             lazy\u001b[39m=\u001b[39;49mlazy,\n\u001b[1;32m    707\u001b[0m             \u001b[39m# don't make a copy of the data\u001b[39;49;00m\n\u001b[1;32m    708\u001b[0m             inplace\u001b[39m=\u001b[39;49m\u001b[39mTrue\u001b[39;49;00m,\n\u001b[1;32m    709\u001b[0m         )\n\u001b[1;32m    710\u001b[0m         check_results\u001b[39m.\u001b[39mappend(check_utils\u001b[39m.\u001b[39mis_table(result))\n\u001b[1;32m    711\u001b[0m     \u001b[39mexcept\u001b[39;00m errors\u001b[39m.\u001b[39mSchemaError \u001b[39mas\u001b[39;00m err:\n",
      "File \u001b[0;32m~/opt/anaconda3/envs/pydatalondon2022/lib/python3.8/site-packages/pandera/schemas.py:2046\u001b[0m, in \u001b[0;36mSeriesSchemaBase.__call__\u001b[0;34m(self, check_obj, head, tail, sample, random_state, lazy, inplace)\u001b[0m\n\u001b[1;32m   2035\u001b[0m \u001b[39mdef\u001b[39;00m \u001b[39m__call__\u001b[39m(\n\u001b[1;32m   2036\u001b[0m     \u001b[39mself\u001b[39m,\n\u001b[1;32m   2037\u001b[0m     check_obj: Union[pd\u001b[39m.\u001b[39mDataFrame, pd\u001b[39m.\u001b[39mSeries],\n\u001b[0;32m   (...)\u001b[0m\n\u001b[1;32m   2043\u001b[0m     inplace: \u001b[39mbool\u001b[39m \u001b[39m=\u001b[39m \u001b[39mFalse\u001b[39;00m,\n\u001b[1;32m   2044\u001b[0m ) \u001b[39m-\u001b[39m\u001b[39m>\u001b[39m Union[pd\u001b[39m.\u001b[39mDataFrame, pd\u001b[39m.\u001b[39mSeries]:\n\u001b[1;32m   2045\u001b[0m     \u001b[39m\"\"\"Alias for ``validate`` method.\"\"\"\u001b[39;00m\n\u001b[0;32m-> 2046\u001b[0m     \u001b[39mreturn\u001b[39;00m \u001b[39mself\u001b[39;49m\u001b[39m.\u001b[39;49mvalidate(\n\u001b[1;32m   2047\u001b[0m         check_obj, head, tail, sample, random_state, lazy, inplace\n\u001b[1;32m   2048\u001b[0m     )\n",
      "File \u001b[0;32m~/opt/anaconda3/envs/pydatalondon2022/lib/python3.8/site-packages/pandera/schema_components.py:214\u001b[0m, in \u001b[0;36mColumn.validate\u001b[0;34m(self, check_obj, head, tail, sample, random_state, lazy, inplace)\u001b[0m\n\u001b[1;32m    210\u001b[0m             validate_column(\n\u001b[1;32m    211\u001b[0m                 check_obj[column_name]\u001b[39m.\u001b[39miloc[:, [i]], column_name\n\u001b[1;32m    212\u001b[0m             )\n\u001b[1;32m    213\u001b[0m     \u001b[39melse\u001b[39;00m:\n\u001b[0;32m--> 214\u001b[0m         validate_column(check_obj, column_name)\n\u001b[1;32m    216\u001b[0m \u001b[39mreturn\u001b[39;00m check_obj\n",
      "File \u001b[0;32m~/opt/anaconda3/envs/pydatalondon2022/lib/python3.8/site-packages/pandera/schema_components.py:187\u001b[0m, in \u001b[0;36mColumn.validate.<locals>.validate_column\u001b[0;34m(check_obj, column_name)\u001b[0m\n\u001b[1;32m    186\u001b[0m \u001b[39mdef\u001b[39;00m \u001b[39mvalidate_column\u001b[39m(check_obj, column_name):\n\u001b[0;32m--> 187\u001b[0m     \u001b[39msuper\u001b[39;49m(Column, copy(\u001b[39mself\u001b[39;49m)\u001b[39m.\u001b[39;49mset_name(column_name))\u001b[39m.\u001b[39;49mvalidate(\n\u001b[1;32m    188\u001b[0m         check_obj,\n\u001b[1;32m    189\u001b[0m         head,\n\u001b[1;32m    190\u001b[0m         tail,\n\u001b[1;32m    191\u001b[0m         sample,\n\u001b[1;32m    192\u001b[0m         random_state,\n\u001b[1;32m    193\u001b[0m         lazy,\n\u001b[1;32m    194\u001b[0m         inplace\u001b[39m=\u001b[39;49minplace,\n\u001b[1;32m    195\u001b[0m     )\n",
      "File \u001b[0;32m~/opt/anaconda3/envs/pydatalondon2022/lib/python3.8/site-packages/pandera/schemas.py:1979\u001b[0m, in \u001b[0;36mSeriesSchemaBase.validate\u001b[0;34m(self, check_obj, head, tail, sample, random_state, lazy, inplace)\u001b[0m\n\u001b[1;32m   1972\u001b[0m \u001b[39mif\u001b[39;00m \u001b[39mself\u001b[39m\u001b[39m.\u001b[39m_dtype \u001b[39mis\u001b[39;00m \u001b[39mnot\u001b[39;00m \u001b[39mNone\u001b[39;00m \u001b[39mand\u001b[39;00m (\n\u001b[1;32m   1973\u001b[0m     \u001b[39mnot\u001b[39;00m \u001b[39mself\u001b[39m\u001b[39m.\u001b[39m_dtype\u001b[39m.\u001b[39mcheck(pandas_engine\u001b[39m.\u001b[39mEngine\u001b[39m.\u001b[39mdtype(series\u001b[39m.\u001b[39mdtype))\n\u001b[1;32m   1974\u001b[0m ):\n\u001b[1;32m   1975\u001b[0m     msg \u001b[39m=\u001b[39m (\n\u001b[1;32m   1976\u001b[0m         \u001b[39mf\u001b[39m\u001b[39m\"\u001b[39m\u001b[39mexpected series \u001b[39m\u001b[39m'\u001b[39m\u001b[39m{\u001b[39;00mseries\u001b[39m.\u001b[39mname\u001b[39m}\u001b[39;00m\u001b[39m'\u001b[39m\u001b[39m to have type \u001b[39m\u001b[39m{\u001b[39;00m\u001b[39mself\u001b[39m\u001b[39m.\u001b[39m_dtype\u001b[39m}\u001b[39;00m\u001b[39m, \u001b[39m\u001b[39m\"\u001b[39m\n\u001b[1;32m   1977\u001b[0m         \u001b[39m+\u001b[39m \u001b[39mf\u001b[39m\u001b[39m\"\u001b[39m\u001b[39mgot \u001b[39m\u001b[39m{\u001b[39;00mseries\u001b[39m.\u001b[39mdtype\u001b[39m}\u001b[39;00m\u001b[39m\"\u001b[39m\n\u001b[1;32m   1978\u001b[0m     )\n\u001b[0;32m-> 1979\u001b[0m     error_handler\u001b[39m.\u001b[39;49mcollect_error(\n\u001b[1;32m   1980\u001b[0m         \u001b[39m\"\u001b[39;49m\u001b[39mwrong_dtype\u001b[39;49m\u001b[39m\"\u001b[39;49m,\n\u001b[1;32m   1981\u001b[0m         errors\u001b[39m.\u001b[39;49mSchemaError(\n\u001b[1;32m   1982\u001b[0m             \u001b[39mself\u001b[39;49m,\n\u001b[1;32m   1983\u001b[0m             check_obj,\n\u001b[1;32m   1984\u001b[0m             msg,\n\u001b[1;32m   1985\u001b[0m             failure_cases\u001b[39m=\u001b[39;49mscalar_failure_case(\u001b[39mstr\u001b[39;49m(series\u001b[39m.\u001b[39;49mdtype)),\n\u001b[1;32m   1986\u001b[0m             check\u001b[39m=\u001b[39;49m\u001b[39mf\u001b[39;49m\u001b[39m\"\u001b[39;49m\u001b[39mdtype(\u001b[39;49m\u001b[39m'\u001b[39;49m\u001b[39m{\u001b[39;49;00m\u001b[39mself\u001b[39;49m\u001b[39m.\u001b[39;49mdtype\u001b[39m}\u001b[39;49;00m\u001b[39m'\u001b[39;49m\u001b[39m)\u001b[39;49m\u001b[39m\"\u001b[39;49m,\n\u001b[1;32m   1987\u001b[0m         ),\n\u001b[1;32m   1988\u001b[0m     )\n\u001b[1;32m   1990\u001b[0m check_results \u001b[39m=\u001b[39m []\n\u001b[1;32m   1991\u001b[0m \u001b[39mif\u001b[39;00m check_utils\u001b[39m.\u001b[39mis_field(check_obj):\n",
      "File \u001b[0;32m~/opt/anaconda3/envs/pydatalondon2022/lib/python3.8/site-packages/pandera/error_handlers.py:32\u001b[0m, in \u001b[0;36mSchemaErrorHandler.collect_error\u001b[0;34m(self, reason_code, schema_error, original_exc)\u001b[0m\n\u001b[1;32m     26\u001b[0m \u001b[39m\"\"\"Collect schema error, raising exception if lazy is False.\u001b[39;00m\n\u001b[1;32m     27\u001b[0m \n\u001b[1;32m     28\u001b[0m \u001b[39m:param reason_code: string representing reason for error\u001b[39;00m\n\u001b[1;32m     29\u001b[0m \u001b[39m:param schema_error: ``SchemaError`` object.\u001b[39;00m\n\u001b[1;32m     30\u001b[0m \u001b[39m\"\"\"\u001b[39;00m\n\u001b[1;32m     31\u001b[0m \u001b[39mif\u001b[39;00m \u001b[39mnot\u001b[39;00m \u001b[39mself\u001b[39m\u001b[39m.\u001b[39m_lazy:\n\u001b[0;32m---> 32\u001b[0m     \u001b[39mraise\u001b[39;00m schema_error \u001b[39mfrom\u001b[39;00m \u001b[39moriginal_exc\u001b[39;00m\n\u001b[1;32m     34\u001b[0m \u001b[39m# delete data of validated object from SchemaError object to prevent\u001b[39;00m\n\u001b[1;32m     35\u001b[0m \u001b[39m# storing copies of the validated DataFrame/Series for every\u001b[39;00m\n\u001b[1;32m     36\u001b[0m \u001b[39m# SchemaError collected.\u001b[39;00m\n\u001b[1;32m     37\u001b[0m \u001b[39mdel\u001b[39;00m schema_error\u001b[39m.\u001b[39mdata\n",
      "\u001b[0;31mSchemaError\u001b[0m: expected series 'LotConfig' to have type float64, got object"
     ]
    }
   ],
   "source": [
    "# The bad schema validation will throw an error\n",
    "bad_types_schema.validate(home_data[feature_names])"
   ]
  },
  {
   "cell_type": "markdown",
   "metadata": {
    "pycharm": {
     "name": "#%% md\n"
    }
   },
   "source": [
    "#### 2. DataFrame Schemas - Value Ranges Validation"
   ]
  },
  {
   "cell_type": "code",
   "execution_count": 13,
   "metadata": {
    "pycharm": {
     "name": "#%%\n"
    }
   },
   "outputs": [],
   "source": [
    "# Pandera also allows validating value ranges for numerical columns\n",
    "value_range_schema = pa.DataFrameSchema({\n",
    "    \"LotArea\": pa.Column(int, pa.Check(lambda s: s <= 1000000), nullable=False),\n",
    "    \"YearBuilt\": pa.Column(int, [pa.Check.in_range(1800, 2022)]),\n",
    "})"
   ]
  },
  {
   "cell_type": "code",
   "execution_count": 14,
   "metadata": {
    "pycharm": {
     "name": "#%%\n"
    }
   },
   "outputs": [
    {
     "data": {
      "text/html": [
       "<div>\n",
       "<style scoped>\n",
       "    .dataframe tbody tr th:only-of-type {\n",
       "        vertical-align: middle;\n",
       "    }\n",
       "\n",
       "    .dataframe tbody tr th {\n",
       "        vertical-align: top;\n",
       "    }\n",
       "\n",
       "    .dataframe thead th {\n",
       "        text-align: right;\n",
       "    }\n",
       "</style>\n",
       "<table border=\"1\" class=\"dataframe\">\n",
       "  <thead>\n",
       "    <tr style=\"text-align: right;\">\n",
       "      <th></th>\n",
       "      <th>LotArea</th>\n",
       "      <th>YearBuilt</th>\n",
       "      <th>1stFlrSF</th>\n",
       "      <th>2ndFlrSF</th>\n",
       "      <th>FullBath</th>\n",
       "      <th>BedroomAbvGr</th>\n",
       "      <th>TotRmsAbvGrd</th>\n",
       "      <th>LotFrontage</th>\n",
       "      <th>LotConfig</th>\n",
       "    </tr>\n",
       "  </thead>\n",
       "  <tbody>\n",
       "    <tr>\n",
       "      <th>0</th>\n",
       "      <td>8450</td>\n",
       "      <td>2003</td>\n",
       "      <td>856</td>\n",
       "      <td>854</td>\n",
       "      <td>2</td>\n",
       "      <td>3</td>\n",
       "      <td>8</td>\n",
       "      <td>65.0</td>\n",
       "      <td>Inside</td>\n",
       "    </tr>\n",
       "    <tr>\n",
       "      <th>1</th>\n",
       "      <td>9600</td>\n",
       "      <td>1976</td>\n",
       "      <td>1262</td>\n",
       "      <td>0</td>\n",
       "      <td>2</td>\n",
       "      <td>3</td>\n",
       "      <td>6</td>\n",
       "      <td>80.0</td>\n",
       "      <td>FR2</td>\n",
       "    </tr>\n",
       "    <tr>\n",
       "      <th>2</th>\n",
       "      <td>11250</td>\n",
       "      <td>2001</td>\n",
       "      <td>920</td>\n",
       "      <td>866</td>\n",
       "      <td>2</td>\n",
       "      <td>3</td>\n",
       "      <td>6</td>\n",
       "      <td>68.0</td>\n",
       "      <td>Inside</td>\n",
       "    </tr>\n",
       "    <tr>\n",
       "      <th>3</th>\n",
       "      <td>9550</td>\n",
       "      <td>1915</td>\n",
       "      <td>961</td>\n",
       "      <td>756</td>\n",
       "      <td>1</td>\n",
       "      <td>3</td>\n",
       "      <td>7</td>\n",
       "      <td>60.0</td>\n",
       "      <td>Corner</td>\n",
       "    </tr>\n",
       "    <tr>\n",
       "      <th>4</th>\n",
       "      <td>14260</td>\n",
       "      <td>2000</td>\n",
       "      <td>1145</td>\n",
       "      <td>1053</td>\n",
       "      <td>2</td>\n",
       "      <td>4</td>\n",
       "      <td>9</td>\n",
       "      <td>84.0</td>\n",
       "      <td>FR2</td>\n",
       "    </tr>\n",
       "    <tr>\n",
       "      <th>...</th>\n",
       "      <td>...</td>\n",
       "      <td>...</td>\n",
       "      <td>...</td>\n",
       "      <td>...</td>\n",
       "      <td>...</td>\n",
       "      <td>...</td>\n",
       "      <td>...</td>\n",
       "      <td>...</td>\n",
       "      <td>...</td>\n",
       "    </tr>\n",
       "    <tr>\n",
       "      <th>1455</th>\n",
       "      <td>7917</td>\n",
       "      <td>1999</td>\n",
       "      <td>953</td>\n",
       "      <td>694</td>\n",
       "      <td>2</td>\n",
       "      <td>3</td>\n",
       "      <td>7</td>\n",
       "      <td>62.0</td>\n",
       "      <td>Inside</td>\n",
       "    </tr>\n",
       "    <tr>\n",
       "      <th>1456</th>\n",
       "      <td>13175</td>\n",
       "      <td>1978</td>\n",
       "      <td>2073</td>\n",
       "      <td>0</td>\n",
       "      <td>2</td>\n",
       "      <td>3</td>\n",
       "      <td>7</td>\n",
       "      <td>85.0</td>\n",
       "      <td>Inside</td>\n",
       "    </tr>\n",
       "    <tr>\n",
       "      <th>1457</th>\n",
       "      <td>9042</td>\n",
       "      <td>1941</td>\n",
       "      <td>1188</td>\n",
       "      <td>1152</td>\n",
       "      <td>2</td>\n",
       "      <td>4</td>\n",
       "      <td>9</td>\n",
       "      <td>66.0</td>\n",
       "      <td>Inside</td>\n",
       "    </tr>\n",
       "    <tr>\n",
       "      <th>1458</th>\n",
       "      <td>9717</td>\n",
       "      <td>1950</td>\n",
       "      <td>1078</td>\n",
       "      <td>0</td>\n",
       "      <td>1</td>\n",
       "      <td>2</td>\n",
       "      <td>5</td>\n",
       "      <td>68.0</td>\n",
       "      <td>Inside</td>\n",
       "    </tr>\n",
       "    <tr>\n",
       "      <th>1459</th>\n",
       "      <td>9937</td>\n",
       "      <td>1965</td>\n",
       "      <td>1256</td>\n",
       "      <td>0</td>\n",
       "      <td>1</td>\n",
       "      <td>3</td>\n",
       "      <td>6</td>\n",
       "      <td>75.0</td>\n",
       "      <td>Inside</td>\n",
       "    </tr>\n",
       "  </tbody>\n",
       "</table>\n",
       "<p>1460 rows × 9 columns</p>\n",
       "</div>"
      ],
      "text/plain": [
       "      LotArea  YearBuilt  1stFlrSF  2ndFlrSF  FullBath  BedroomAbvGr  \\\n",
       "0        8450       2003       856       854         2             3   \n",
       "1        9600       1976      1262         0         2             3   \n",
       "2       11250       2001       920       866         2             3   \n",
       "3        9550       1915       961       756         1             3   \n",
       "4       14260       2000      1145      1053         2             4   \n",
       "...       ...        ...       ...       ...       ...           ...   \n",
       "1455     7917       1999       953       694         2             3   \n",
       "1456    13175       1978      2073         0         2             3   \n",
       "1457     9042       1941      1188      1152         2             4   \n",
       "1458     9717       1950      1078         0         1             2   \n",
       "1459     9937       1965      1256         0         1             3   \n",
       "\n",
       "      TotRmsAbvGrd  LotFrontage LotConfig  \n",
       "0                8         65.0    Inside  \n",
       "1                6         80.0       FR2  \n",
       "2                6         68.0    Inside  \n",
       "3                7         60.0    Corner  \n",
       "4                9         84.0       FR2  \n",
       "...            ...          ...       ...  \n",
       "1455             7         62.0    Inside  \n",
       "1456             7         85.0    Inside  \n",
       "1457             9         66.0    Inside  \n",
       "1458             5         68.0    Inside  \n",
       "1459             6         75.0    Inside  \n",
       "\n",
       "[1460 rows x 9 columns]"
      ]
     },
     "execution_count": 14,
     "metadata": {},
     "output_type": "execute_result"
    }
   ],
   "source": [
    "# Validate the home_data DataFrame against the value_range_schema\n",
    "value_range_schema.validate(home_data[feature_names])"
   ]
  },
  {
   "cell_type": "markdown",
   "metadata": {
    "pycharm": {
     "name": "#%% md\n"
    }
   },
   "source": [
    "#### 3. DataFrame Schemas - Catch Bad Data"
   ]
  },
  {
   "cell_type": "markdown",
   "metadata": {
    "pycharm": {
     "name": "#%% md\n"
    }
   },
   "source": [
    "What if instead of breaking on error we want to continue processing the dataframe? or we want to skip the bad data? we can use the `failure_cases` attribute of the error message to capture the bad data indices and the `lazy` argument for going over the entire dataframe instead of failing on the first bad row. We can do that by utilizing a try-except block."
   ]
  },
  {
   "cell_type": "code",
   "execution_count": 15,
   "metadata": {
    "pycharm": {
     "name": "#%%\n"
    }
   },
   "outputs": [],
   "source": [
    "# We'll use a small sample of the data to make the example more clear\n",
    "sample_data = home_data.sample(n=10)"
   ]
  },
  {
   "cell_type": "code",
   "execution_count": 16,
   "metadata": {
    "pycharm": {
     "name": "#%%\n"
    }
   },
   "outputs": [],
   "source": [
    "# Create a schema that will fail on the first bad data point\n",
    "catch_bad_data_schema = pa.DataFrameSchema({\n",
    "    \"LotArea\": pa.Column(int, pa.Check(lambda s: s <= 1000000)),\n",
    "    \"YearBuilt\": pa.Column(int, pa.Check.in_range(1900,1990)),  # notice that the year built has a restrictive range\n",
    "})"
   ]
  },
  {
   "cell_type": "code",
   "execution_count": 17,
   "metadata": {
    "pycharm": {
     "name": "#%%\n"
    }
   },
   "outputs": [
    {
     "ename": "SchemaError",
     "evalue": "<Schema Column(name=YearBuilt, type=DataType(int64))> failed element-wise validator 0:\n<Check in_range: in_range(1900, 1990)>\nfailure cases:\n   index  failure_case\n0    234          2002\n1     81          1998\n2    686          2007\n3     60          2004",
     "output_type": "error",
     "traceback": [
      "\u001b[0;31m---------------------------------------------------------------------------\u001b[0m",
      "\u001b[0;31mSchemaError\u001b[0m                               Traceback (most recent call last)",
      "\u001b[1;32m/Users/samia/Downloads/PyDataLondon2022/Friday_TS2_0900/notebooks/2_training_pipeline_data_validation.ipynb Cell 32'\u001b[0m in \u001b[0;36m<cell line: 2>\u001b[0;34m()\u001b[0m\n\u001b[1;32m      <a href='vscode-notebook-cell:/Users/samia/Downloads/PyDataLondon2022/Friday_TS2_0900/notebooks/2_training_pipeline_data_validation.ipynb#ch0000031?line=0'>1</a>\u001b[0m \u001b[39m# Validating the home_data DataFrame against the catch_bad_data_schema will throw an error\u001b[39;00m\n\u001b[0;32m----> <a href='vscode-notebook-cell:/Users/samia/Downloads/PyDataLondon2022/Friday_TS2_0900/notebooks/2_training_pipeline_data_validation.ipynb#ch0000031?line=1'>2</a>\u001b[0m catch_bad_data_schema\u001b[39m.\u001b[39;49mvalidate(sample_data[feature_names])\n",
      "File \u001b[0;32m~/opt/anaconda3/envs/pydatalondon2022/lib/python3.8/site-packages/pandera/schemas.py:515\u001b[0m, in \u001b[0;36mDataFrameSchema.validate\u001b[0;34m(self, check_obj, head, tail, sample, random_state, lazy, inplace)\u001b[0m\n\u001b[1;32m    502\u001b[0m     check_obj \u001b[39m=\u001b[39m check_obj\u001b[39m.\u001b[39mmap_partitions(\n\u001b[1;32m    503\u001b[0m         \u001b[39mself\u001b[39m\u001b[39m.\u001b[39m_validate,\n\u001b[1;32m    504\u001b[0m         head\u001b[39m=\u001b[39mhead,\n\u001b[0;32m   (...)\u001b[0m\n\u001b[1;32m    510\u001b[0m         meta\u001b[39m=\u001b[39mcheck_obj,\n\u001b[1;32m    511\u001b[0m     )\n\u001b[1;32m    513\u001b[0m     \u001b[39mreturn\u001b[39;00m check_obj\u001b[39m.\u001b[39mpandera\u001b[39m.\u001b[39madd_schema(\u001b[39mself\u001b[39m)\n\u001b[0;32m--> 515\u001b[0m \u001b[39mreturn\u001b[39;00m \u001b[39mself\u001b[39;49m\u001b[39m.\u001b[39;49m_validate(\n\u001b[1;32m    516\u001b[0m     check_obj\u001b[39m=\u001b[39;49mcheck_obj,\n\u001b[1;32m    517\u001b[0m     head\u001b[39m=\u001b[39;49mhead,\n\u001b[1;32m    518\u001b[0m     tail\u001b[39m=\u001b[39;49mtail,\n\u001b[1;32m    519\u001b[0m     sample\u001b[39m=\u001b[39;49msample,\n\u001b[1;32m    520\u001b[0m     random_state\u001b[39m=\u001b[39;49mrandom_state,\n\u001b[1;32m    521\u001b[0m     lazy\u001b[39m=\u001b[39;49mlazy,\n\u001b[1;32m    522\u001b[0m     inplace\u001b[39m=\u001b[39;49minplace,\n\u001b[1;32m    523\u001b[0m )\n",
      "File \u001b[0;32m~/opt/anaconda3/envs/pydatalondon2022/lib/python3.8/site-packages/pandera/schemas.py:712\u001b[0m, in \u001b[0;36mDataFrameSchema._validate\u001b[0;34m(self, check_obj, head, tail, sample, random_state, lazy, inplace)\u001b[0m\n\u001b[1;32m    710\u001b[0m     check_results\u001b[39m.\u001b[39mappend(check_utils\u001b[39m.\u001b[39mis_table(result))\n\u001b[1;32m    711\u001b[0m \u001b[39mexcept\u001b[39;00m errors\u001b[39m.\u001b[39mSchemaError \u001b[39mas\u001b[39;00m err:\n\u001b[0;32m--> 712\u001b[0m     error_handler\u001b[39m.\u001b[39;49mcollect_error(\u001b[39m\"\u001b[39;49m\u001b[39mschema_component_check\u001b[39;49m\u001b[39m\"\u001b[39;49m, err)\n\u001b[1;32m    713\u001b[0m \u001b[39mexcept\u001b[39;00m errors\u001b[39m.\u001b[39mSchemaErrors \u001b[39mas\u001b[39;00m err:\n\u001b[1;32m    714\u001b[0m     \u001b[39mfor\u001b[39;00m schema_error_dict \u001b[39min\u001b[39;00m err\u001b[39m.\u001b[39mschema_errors:\n",
      "File \u001b[0;32m~/opt/anaconda3/envs/pydatalondon2022/lib/python3.8/site-packages/pandera/error_handlers.py:32\u001b[0m, in \u001b[0;36mSchemaErrorHandler.collect_error\u001b[0;34m(self, reason_code, schema_error, original_exc)\u001b[0m\n\u001b[1;32m     26\u001b[0m \u001b[39m\"\"\"Collect schema error, raising exception if lazy is False.\u001b[39;00m\n\u001b[1;32m     27\u001b[0m \n\u001b[1;32m     28\u001b[0m \u001b[39m:param reason_code: string representing reason for error\u001b[39;00m\n\u001b[1;32m     29\u001b[0m \u001b[39m:param schema_error: ``SchemaError`` object.\u001b[39;00m\n\u001b[1;32m     30\u001b[0m \u001b[39m\"\"\"\u001b[39;00m\n\u001b[1;32m     31\u001b[0m \u001b[39mif\u001b[39;00m \u001b[39mnot\u001b[39;00m \u001b[39mself\u001b[39m\u001b[39m.\u001b[39m_lazy:\n\u001b[0;32m---> 32\u001b[0m     \u001b[39mraise\u001b[39;00m schema_error \u001b[39mfrom\u001b[39;00m \u001b[39moriginal_exc\u001b[39;00m\n\u001b[1;32m     34\u001b[0m \u001b[39m# delete data of validated object from SchemaError object to prevent\u001b[39;00m\n\u001b[1;32m     35\u001b[0m \u001b[39m# storing copies of the validated DataFrame/Series for every\u001b[39;00m\n\u001b[1;32m     36\u001b[0m \u001b[39m# SchemaError collected.\u001b[39;00m\n\u001b[1;32m     37\u001b[0m \u001b[39mdel\u001b[39;00m schema_error\u001b[39m.\u001b[39mdata\n",
      "File \u001b[0;32m~/opt/anaconda3/envs/pydatalondon2022/lib/python3.8/site-packages/pandera/schemas.py:704\u001b[0m, in \u001b[0;36mDataFrameSchema._validate\u001b[0;34m(self, check_obj, head, tail, sample, random_state, lazy, inplace)\u001b[0m\n\u001b[1;32m    702\u001b[0m \u001b[39mfor\u001b[39;00m schema_component \u001b[39min\u001b[39;00m schema_components:\n\u001b[1;32m    703\u001b[0m     \u001b[39mtry\u001b[39;00m:\n\u001b[0;32m--> 704\u001b[0m         result \u001b[39m=\u001b[39m schema_component(\n\u001b[1;32m    705\u001b[0m             df_to_validate,\n\u001b[1;32m    706\u001b[0m             lazy\u001b[39m=\u001b[39;49mlazy,\n\u001b[1;32m    707\u001b[0m             \u001b[39m# don't make a copy of the data\u001b[39;49;00m\n\u001b[1;32m    708\u001b[0m             inplace\u001b[39m=\u001b[39;49m\u001b[39mTrue\u001b[39;49;00m,\n\u001b[1;32m    709\u001b[0m         )\n\u001b[1;32m    710\u001b[0m         check_results\u001b[39m.\u001b[39mappend(check_utils\u001b[39m.\u001b[39mis_table(result))\n\u001b[1;32m    711\u001b[0m     \u001b[39mexcept\u001b[39;00m errors\u001b[39m.\u001b[39mSchemaError \u001b[39mas\u001b[39;00m err:\n",
      "File \u001b[0;32m~/opt/anaconda3/envs/pydatalondon2022/lib/python3.8/site-packages/pandera/schemas.py:2046\u001b[0m, in \u001b[0;36mSeriesSchemaBase.__call__\u001b[0;34m(self, check_obj, head, tail, sample, random_state, lazy, inplace)\u001b[0m\n\u001b[1;32m   2035\u001b[0m \u001b[39mdef\u001b[39;00m \u001b[39m__call__\u001b[39m(\n\u001b[1;32m   2036\u001b[0m     \u001b[39mself\u001b[39m,\n\u001b[1;32m   2037\u001b[0m     check_obj: Union[pd\u001b[39m.\u001b[39mDataFrame, pd\u001b[39m.\u001b[39mSeries],\n\u001b[0;32m   (...)\u001b[0m\n\u001b[1;32m   2043\u001b[0m     inplace: \u001b[39mbool\u001b[39m \u001b[39m=\u001b[39m \u001b[39mFalse\u001b[39;00m,\n\u001b[1;32m   2044\u001b[0m ) \u001b[39m-\u001b[39m\u001b[39m>\u001b[39m Union[pd\u001b[39m.\u001b[39mDataFrame, pd\u001b[39m.\u001b[39mSeries]:\n\u001b[1;32m   2045\u001b[0m     \u001b[39m\"\"\"Alias for ``validate`` method.\"\"\"\u001b[39;00m\n\u001b[0;32m-> 2046\u001b[0m     \u001b[39mreturn\u001b[39;00m \u001b[39mself\u001b[39;49m\u001b[39m.\u001b[39;49mvalidate(\n\u001b[1;32m   2047\u001b[0m         check_obj, head, tail, sample, random_state, lazy, inplace\n\u001b[1;32m   2048\u001b[0m     )\n",
      "File \u001b[0;32m~/opt/anaconda3/envs/pydatalondon2022/lib/python3.8/site-packages/pandera/schema_components.py:214\u001b[0m, in \u001b[0;36mColumn.validate\u001b[0;34m(self, check_obj, head, tail, sample, random_state, lazy, inplace)\u001b[0m\n\u001b[1;32m    210\u001b[0m             validate_column(\n\u001b[1;32m    211\u001b[0m                 check_obj[column_name]\u001b[39m.\u001b[39miloc[:, [i]], column_name\n\u001b[1;32m    212\u001b[0m             )\n\u001b[1;32m    213\u001b[0m     \u001b[39melse\u001b[39;00m:\n\u001b[0;32m--> 214\u001b[0m         validate_column(check_obj, column_name)\n\u001b[1;32m    216\u001b[0m \u001b[39mreturn\u001b[39;00m check_obj\n",
      "File \u001b[0;32m~/opt/anaconda3/envs/pydatalondon2022/lib/python3.8/site-packages/pandera/schema_components.py:187\u001b[0m, in \u001b[0;36mColumn.validate.<locals>.validate_column\u001b[0;34m(check_obj, column_name)\u001b[0m\n\u001b[1;32m    186\u001b[0m \u001b[39mdef\u001b[39;00m \u001b[39mvalidate_column\u001b[39m(check_obj, column_name):\n\u001b[0;32m--> 187\u001b[0m     \u001b[39msuper\u001b[39;49m(Column, copy(\u001b[39mself\u001b[39;49m)\u001b[39m.\u001b[39;49mset_name(column_name))\u001b[39m.\u001b[39;49mvalidate(\n\u001b[1;32m    188\u001b[0m         check_obj,\n\u001b[1;32m    189\u001b[0m         head,\n\u001b[1;32m    190\u001b[0m         tail,\n\u001b[1;32m    191\u001b[0m         sample,\n\u001b[1;32m    192\u001b[0m         random_state,\n\u001b[1;32m    193\u001b[0m         lazy,\n\u001b[1;32m    194\u001b[0m         inplace\u001b[39m=\u001b[39;49minplace,\n\u001b[1;32m    195\u001b[0m     )\n",
      "File \u001b[0;32m~/opt/anaconda3/envs/pydatalondon2022/lib/python3.8/site-packages/pandera/schemas.py:2004\u001b[0m, in \u001b[0;36mSeriesSchemaBase.validate\u001b[0;34m(self, check_obj, head, tail, sample, random_state, lazy, inplace)\u001b[0m\n\u001b[1;32m   1998\u001b[0m     check_results\u001b[39m.\u001b[39mappend(\n\u001b[1;32m   1999\u001b[0m         _handle_check_results(\n\u001b[1;32m   2000\u001b[0m             \u001b[39mself\u001b[39m, check_index, check, check_obj, \u001b[39m*\u001b[39mcheck_args\n\u001b[1;32m   2001\u001b[0m         )\n\u001b[1;32m   2002\u001b[0m     )\n\u001b[1;32m   2003\u001b[0m \u001b[39mexcept\u001b[39;00m errors\u001b[39m.\u001b[39mSchemaError \u001b[39mas\u001b[39;00m err:\n\u001b[0;32m-> 2004\u001b[0m     error_handler\u001b[39m.\u001b[39;49mcollect_error(\u001b[39m\"\u001b[39;49m\u001b[39mdataframe_check\u001b[39;49m\u001b[39m\"\u001b[39;49m, err)\n\u001b[1;32m   2005\u001b[0m \u001b[39mexcept\u001b[39;00m \u001b[39mException\u001b[39;00m \u001b[39mas\u001b[39;00m err:  \u001b[39m# pylint: disable=broad-except\u001b[39;00m\n\u001b[1;32m   2006\u001b[0m     \u001b[39m# catch other exceptions that may occur when executing the\u001b[39;00m\n\u001b[1;32m   2007\u001b[0m     \u001b[39m# Check\u001b[39;00m\n\u001b[1;32m   2008\u001b[0m     err_msg \u001b[39m=\u001b[39m \u001b[39mf\u001b[39m\u001b[39m'\u001b[39m\u001b[39m\"\u001b[39m\u001b[39m{\u001b[39;00merr\u001b[39m.\u001b[39margs[\u001b[39m0\u001b[39m]\u001b[39m}\u001b[39;00m\u001b[39m\"\u001b[39m\u001b[39m'\u001b[39m \u001b[39mif\u001b[39;00m \u001b[39mlen\u001b[39m(err\u001b[39m.\u001b[39margs) \u001b[39m>\u001b[39m \u001b[39m0\u001b[39m \u001b[39melse\u001b[39;00m \u001b[39m\"\u001b[39m\u001b[39m\"\u001b[39m\n",
      "File \u001b[0;32m~/opt/anaconda3/envs/pydatalondon2022/lib/python3.8/site-packages/pandera/error_handlers.py:32\u001b[0m, in \u001b[0;36mSchemaErrorHandler.collect_error\u001b[0;34m(self, reason_code, schema_error, original_exc)\u001b[0m\n\u001b[1;32m     26\u001b[0m \u001b[39m\"\"\"Collect schema error, raising exception if lazy is False.\u001b[39;00m\n\u001b[1;32m     27\u001b[0m \n\u001b[1;32m     28\u001b[0m \u001b[39m:param reason_code: string representing reason for error\u001b[39;00m\n\u001b[1;32m     29\u001b[0m \u001b[39m:param schema_error: ``SchemaError`` object.\u001b[39;00m\n\u001b[1;32m     30\u001b[0m \u001b[39m\"\"\"\u001b[39;00m\n\u001b[1;32m     31\u001b[0m \u001b[39mif\u001b[39;00m \u001b[39mnot\u001b[39;00m \u001b[39mself\u001b[39m\u001b[39m.\u001b[39m_lazy:\n\u001b[0;32m---> 32\u001b[0m     \u001b[39mraise\u001b[39;00m schema_error \u001b[39mfrom\u001b[39;00m \u001b[39moriginal_exc\u001b[39;00m\n\u001b[1;32m     34\u001b[0m \u001b[39m# delete data of validated object from SchemaError object to prevent\u001b[39;00m\n\u001b[1;32m     35\u001b[0m \u001b[39m# storing copies of the validated DataFrame/Series for every\u001b[39;00m\n\u001b[1;32m     36\u001b[0m \u001b[39m# SchemaError collected.\u001b[39;00m\n\u001b[1;32m     37\u001b[0m \u001b[39mdel\u001b[39;00m schema_error\u001b[39m.\u001b[39mdata\n",
      "File \u001b[0;32m~/opt/anaconda3/envs/pydatalondon2022/lib/python3.8/site-packages/pandera/schemas.py:1999\u001b[0m, in \u001b[0;36mSeriesSchemaBase.validate\u001b[0;34m(self, check_obj, head, tail, sample, random_state, lazy, inplace)\u001b[0m\n\u001b[1;32m   1996\u001b[0m \u001b[39mfor\u001b[39;00m check_index, check \u001b[39min\u001b[39;00m \u001b[39menumerate\u001b[39m(\u001b[39mself\u001b[39m\u001b[39m.\u001b[39mchecks):\n\u001b[1;32m   1997\u001b[0m     \u001b[39mtry\u001b[39;00m:\n\u001b[1;32m   1998\u001b[0m         check_results\u001b[39m.\u001b[39mappend(\n\u001b[0;32m-> 1999\u001b[0m             _handle_check_results(\n\u001b[1;32m   2000\u001b[0m                 \u001b[39mself\u001b[39;49m, check_index, check, check_obj, \u001b[39m*\u001b[39;49mcheck_args\n\u001b[1;32m   2001\u001b[0m             )\n\u001b[1;32m   2002\u001b[0m         )\n\u001b[1;32m   2003\u001b[0m     \u001b[39mexcept\u001b[39;00m errors\u001b[39m.\u001b[39mSchemaError \u001b[39mas\u001b[39;00m err:\n\u001b[1;32m   2004\u001b[0m         error_handler\u001b[39m.\u001b[39mcollect_error(\u001b[39m\"\u001b[39m\u001b[39mdataframe_check\u001b[39m\u001b[39m\"\u001b[39m, err)\n",
      "File \u001b[0;32m~/opt/anaconda3/envs/pydatalondon2022/lib/python3.8/site-packages/pandera/schemas.py:2385\u001b[0m, in \u001b[0;36m_handle_check_results\u001b[0;34m(schema, check_index, check, check_obj, *check_args)\u001b[0m\n\u001b[1;32m   2383\u001b[0m         warnings\u001b[39m.\u001b[39mwarn(error_msg, \u001b[39mUserWarning\u001b[39;00m)\n\u001b[1;32m   2384\u001b[0m         \u001b[39mreturn\u001b[39;00m \u001b[39mTrue\u001b[39;00m\n\u001b[0;32m-> 2385\u001b[0m     \u001b[39mraise\u001b[39;00m errors\u001b[39m.\u001b[39mSchemaError(\n\u001b[1;32m   2386\u001b[0m         schema,\n\u001b[1;32m   2387\u001b[0m         check_obj,\n\u001b[1;32m   2388\u001b[0m         error_msg,\n\u001b[1;32m   2389\u001b[0m         failure_cases\u001b[39m=\u001b[39mfailure_cases,\n\u001b[1;32m   2390\u001b[0m         check\u001b[39m=\u001b[39mcheck,\n\u001b[1;32m   2391\u001b[0m         check_index\u001b[39m=\u001b[39mcheck_index,\n\u001b[1;32m   2392\u001b[0m         check_output\u001b[39m=\u001b[39mcheck_result\u001b[39m.\u001b[39mcheck_output,\n\u001b[1;32m   2393\u001b[0m     )\n\u001b[1;32m   2394\u001b[0m \u001b[39mreturn\u001b[39;00m check_result\u001b[39m.\u001b[39mcheck_passed\n",
      "\u001b[0;31mSchemaError\u001b[0m: <Schema Column(name=YearBuilt, type=DataType(int64))> failed element-wise validator 0:\n<Check in_range: in_range(1900, 1990)>\nfailure cases:\n   index  failure_case\n0    234          2002\n1     81          1998\n2    686          2007\n3     60          2004"
     ]
    }
   ],
   "source": [
    "# Validating the home_data DataFrame against the catch_bad_data_schema will throw an error\n",
    "catch_bad_data_schema.validate(sample_data[feature_names])"
   ]
  },
  {
   "cell_type": "markdown",
   "metadata": {
    "pycharm": {
     "name": "#%% md\n"
    }
   },
   "source": [
    "Now let's use a try except block to catch the bad data indices. This is a common and valid practice in Python called EAFP - \"easier to ask for forgiveness than permission\" which might not be as well recieved in other languages."
   ]
  },
  {
   "cell_type": "code",
   "execution_count": 18,
   "metadata": {
    "pycharm": {
     "name": "#%%\n"
    }
   },
   "outputs": [
    {
     "data": {
      "text/html": [
       "<div>\n",
       "<style scoped>\n",
       "    .dataframe tbody tr th:only-of-type {\n",
       "        vertical-align: middle;\n",
       "    }\n",
       "\n",
       "    .dataframe tbody tr th {\n",
       "        vertical-align: top;\n",
       "    }\n",
       "\n",
       "    .dataframe thead th {\n",
       "        text-align: right;\n",
       "    }\n",
       "</style>\n",
       "<table border=\"1\" class=\"dataframe\">\n",
       "  <thead>\n",
       "    <tr style=\"text-align: right;\">\n",
       "      <th></th>\n",
       "      <th>schema_context</th>\n",
       "      <th>column</th>\n",
       "      <th>check</th>\n",
       "      <th>check_number</th>\n",
       "      <th>failure_case</th>\n",
       "      <th>index</th>\n",
       "    </tr>\n",
       "  </thead>\n",
       "  <tbody>\n",
       "    <tr>\n",
       "      <th>0</th>\n",
       "      <td>Column</td>\n",
       "      <td>YearBuilt</td>\n",
       "      <td>in_range(1900, 1990)</td>\n",
       "      <td>0</td>\n",
       "      <td>2002</td>\n",
       "      <td>234</td>\n",
       "    </tr>\n",
       "    <tr>\n",
       "      <th>1</th>\n",
       "      <td>Column</td>\n",
       "      <td>YearBuilt</td>\n",
       "      <td>in_range(1900, 1990)</td>\n",
       "      <td>0</td>\n",
       "      <td>1998</td>\n",
       "      <td>81</td>\n",
       "    </tr>\n",
       "    <tr>\n",
       "      <th>2</th>\n",
       "      <td>Column</td>\n",
       "      <td>YearBuilt</td>\n",
       "      <td>in_range(1900, 1990)</td>\n",
       "      <td>0</td>\n",
       "      <td>2007</td>\n",
       "      <td>686</td>\n",
       "    </tr>\n",
       "    <tr>\n",
       "      <th>3</th>\n",
       "      <td>Column</td>\n",
       "      <td>YearBuilt</td>\n",
       "      <td>in_range(1900, 1990)</td>\n",
       "      <td>0</td>\n",
       "      <td>2004</td>\n",
       "      <td>60</td>\n",
       "    </tr>\n",
       "  </tbody>\n",
       "</table>\n",
       "</div>"
      ],
      "text/plain": [
       "  schema_context     column                 check  check_number  failure_case  \\\n",
       "0         Column  YearBuilt  in_range(1900, 1990)             0          2002   \n",
       "1         Column  YearBuilt  in_range(1900, 1990)             0          1998   \n",
       "2         Column  YearBuilt  in_range(1900, 1990)             0          2007   \n",
       "3         Column  YearBuilt  in_range(1900, 1990)             0          2004   \n",
       "\n",
       "   index  \n",
       "0    234  \n",
       "1     81  \n",
       "2    686  \n",
       "3     60  "
      ]
     },
     "execution_count": 18,
     "metadata": {},
     "output_type": "execute_result"
    }
   ],
   "source": [
    "try:\n",
    "    catch_bad_data_schema.validate(sample_data[feature_names], lazy=True)\n",
    "except pa.errors.SchemaErrors as e:\n",
    "    failure_cases = e.failure_cases\n",
    "\n",
    "# Failure cases is a dataframe of the bad data only\n",
    "failure_cases.head()"
   ]
  },
  {
   "cell_type": "code",
   "execution_count": 19,
   "metadata": {},
   "outputs": [],
   "source": [
    "# We can easily filter out the bad data from the original dataframe using the failure_cases dataframe\n",
    "filtered_df = sample_data[~sample_data.index.isin(failure_cases[\"index\"])]"
   ]
  },
  {
   "cell_type": "code",
   "execution_count": 20,
   "metadata": {
    "pycharm": {
     "name": "#%%\n"
    }
   },
   "outputs": [
    {
     "data": {
      "text/html": [
       "<div>\n",
       "<style scoped>\n",
       "    .dataframe tbody tr th:only-of-type {\n",
       "        vertical-align: middle;\n",
       "    }\n",
       "\n",
       "    .dataframe tbody tr th {\n",
       "        vertical-align: top;\n",
       "    }\n",
       "\n",
       "    .dataframe thead th {\n",
       "        text-align: right;\n",
       "    }\n",
       "</style>\n",
       "<table border=\"1\" class=\"dataframe\">\n",
       "  <thead>\n",
       "    <tr style=\"text-align: right;\">\n",
       "      <th></th>\n",
       "      <th>LotArea</th>\n",
       "      <th>YearBuilt</th>\n",
       "      <th>1stFlrSF</th>\n",
       "      <th>2ndFlrSF</th>\n",
       "      <th>FullBath</th>\n",
       "      <th>BedroomAbvGr</th>\n",
       "      <th>TotRmsAbvGrd</th>\n",
       "      <th>LotFrontage</th>\n",
       "      <th>LotConfig</th>\n",
       "    </tr>\n",
       "  </thead>\n",
       "  <tbody>\n",
       "    <tr>\n",
       "      <th>372</th>\n",
       "      <td>7175</td>\n",
       "      <td>1984</td>\n",
       "      <td>752</td>\n",
       "      <td>0</td>\n",
       "      <td>1</td>\n",
       "      <td>2</td>\n",
       "      <td>4</td>\n",
       "      <td>50.0</td>\n",
       "      <td>Inside</td>\n",
       "    </tr>\n",
       "    <tr>\n",
       "      <th>298</th>\n",
       "      <td>11700</td>\n",
       "      <td>1968</td>\n",
       "      <td>1041</td>\n",
       "      <td>702</td>\n",
       "      <td>1</td>\n",
       "      <td>3</td>\n",
       "      <td>7</td>\n",
       "      <td>90.0</td>\n",
       "      <td>Inside</td>\n",
       "    </tr>\n",
       "    <tr>\n",
       "      <th>729</th>\n",
       "      <td>6240</td>\n",
       "      <td>1925</td>\n",
       "      <td>848</td>\n",
       "      <td>0</td>\n",
       "      <td>1</td>\n",
       "      <td>2</td>\n",
       "      <td>5</td>\n",
       "      <td>52.0</td>\n",
       "      <td>Inside</td>\n",
       "    </tr>\n",
       "    <tr>\n",
       "      <th>217</th>\n",
       "      <td>9906</td>\n",
       "      <td>1925</td>\n",
       "      <td>810</td>\n",
       "      <td>518</td>\n",
       "      <td>1</td>\n",
       "      <td>3</td>\n",
       "      <td>8</td>\n",
       "      <td>57.0</td>\n",
       "      <td>Inside</td>\n",
       "    </tr>\n",
       "    <tr>\n",
       "      <th>122</th>\n",
       "      <td>9464</td>\n",
       "      <td>1958</td>\n",
       "      <td>1080</td>\n",
       "      <td>0</td>\n",
       "      <td>1</td>\n",
       "      <td>3</td>\n",
       "      <td>5</td>\n",
       "      <td>75.0</td>\n",
       "      <td>Corner</td>\n",
       "    </tr>\n",
       "    <tr>\n",
       "      <th>1038</th>\n",
       "      <td>1533</td>\n",
       "      <td>1970</td>\n",
       "      <td>798</td>\n",
       "      <td>546</td>\n",
       "      <td>1</td>\n",
       "      <td>3</td>\n",
       "      <td>6</td>\n",
       "      <td>21.0</td>\n",
       "      <td>Inside</td>\n",
       "    </tr>\n",
       "  </tbody>\n",
       "</table>\n",
       "</div>"
      ],
      "text/plain": [
       "      LotArea  YearBuilt  1stFlrSF  2ndFlrSF  FullBath  BedroomAbvGr  \\\n",
       "372      7175       1984       752         0         1             2   \n",
       "298     11700       1968      1041       702         1             3   \n",
       "729      6240       1925       848         0         1             2   \n",
       "217      9906       1925       810       518         1             3   \n",
       "122      9464       1958      1080         0         1             3   \n",
       "1038     1533       1970       798       546         1             3   \n",
       "\n",
       "      TotRmsAbvGrd  LotFrontage LotConfig  \n",
       "372              4         50.0    Inside  \n",
       "298              7         90.0    Inside  \n",
       "729              5         52.0    Inside  \n",
       "217              8         57.0    Inside  \n",
       "122              5         75.0    Corner  \n",
       "1038             6         21.0    Inside  "
      ]
     },
     "execution_count": 20,
     "metadata": {},
     "output_type": "execute_result"
    }
   ],
   "source": [
    "# Let's see that the filtered data passes the validation test\n",
    "catch_bad_data_schema.validate(filtered_df[feature_names])"
   ]
  },
  {
   "cell_type": "markdown",
   "metadata": {
    "pycharm": {
     "name": "#%% md\n"
    }
   },
   "source": [
    "#### 4. DataFrame Schemas - Validate acceptable categorical values"
   ]
  },
  {
   "cell_type": "code",
   "execution_count": 21,
   "metadata": {
    "pycharm": {
     "name": "#%%\n"
    }
   },
   "outputs": [],
   "source": [
    "lot_config_values = [\"Inside\", \"Corner\", \"CulDSac\", \"FR3\"]"
   ]
  },
  {
   "cell_type": "code",
   "execution_count": 22,
   "metadata": {
    "pycharm": {
     "name": "#%%\n"
    }
   },
   "outputs": [],
   "source": [
    "lot_config_values_schema = pa.DataFrameSchema({\n",
    "    \"LotArea\": pa.Column(int, pa.Check(lambda s: s <= 1000000)),\n",
    "    \"LotConfig\": pa.Column(str, pa.Check.isin(lot_config_values)),\n",
    "})"
   ]
  },
  {
   "cell_type": "code",
   "execution_count": 23,
   "metadata": {
    "pycharm": {
     "name": "#%%\n"
    }
   },
   "outputs": [
    {
     "ename": "SchemaError",
     "evalue": "<Schema Column(name=LotConfig, type=DataType(str))> failed element-wise validator 0:\n<Check isin: isin({'FR3', 'Corner', 'Inside', 'CulDSac'})>\nfailure cases:\n    index failure_case\n0       1          FR2\n1       4          FR2\n2      81          FR2\n3     140          FR2\n4     195          FR2\n5     214          FR2\n6     223          FR2\n7     228          FR2\n8     236          FR2\n9     266          FR2\n10    364          FR2\n11    386          FR2\n12    421          FR2\n13    480          FR2\n14    483          FR2\n15    537          FR2\n16    541          FR2\n17    558          FR2\n18    574          FR2\n19    611          FR2\n20    670          FR2\n21    687          FR2\n22    761          FR2\n23    775          FR2\n24    805          FR2\n25    849          FR2\n26    933          FR2\n27    941          FR2\n28    959          FR2\n29    975          FR2\n30    994          FR2\n31   1018          FR2\n32   1057          FR2\n33   1117          FR2\n34   1158          FR2\n35   1164          FR2\n36   1178          FR2\n37   1193          FR2\n38   1232          FR2\n39   1237          FR2\n40   1259          FR2\n41   1362          FR2\n42   1369          FR2\n43   1436          FR2\n44   1437          FR2\n45   1444          FR2\n46   1450          FR2",
     "output_type": "error",
     "traceback": [
      "\u001b[0;31m---------------------------------------------------------------------------\u001b[0m",
      "\u001b[0;31mSchemaError\u001b[0m                               Traceback (most recent call last)",
      "\u001b[1;32m/Users/samia/Downloads/PyDataLondon2022/Friday_TS2_0900/notebooks/2_training_pipeline_data_validation.ipynb Cell 40'\u001b[0m in \u001b[0;36m<cell line: 2>\u001b[0;34m()\u001b[0m\n\u001b[1;32m      <a href='vscode-notebook-cell:/Users/samia/Downloads/PyDataLondon2022/Friday_TS2_0900/notebooks/2_training_pipeline_data_validation.ipynb#ch0000039?line=0'>1</a>\u001b[0m \u001b[39m# Validating the home_data DataFrame against the lot_config_values_schema will throw an error\u001b[39;00m\n\u001b[0;32m----> <a href='vscode-notebook-cell:/Users/samia/Downloads/PyDataLondon2022/Friday_TS2_0900/notebooks/2_training_pipeline_data_validation.ipynb#ch0000039?line=1'>2</a>\u001b[0m lot_config_values_schema\u001b[39m.\u001b[39;49mvalidate(home_data[feature_names])\n",
      "File \u001b[0;32m~/opt/anaconda3/envs/pydatalondon2022/lib/python3.8/site-packages/pandera/schemas.py:515\u001b[0m, in \u001b[0;36mDataFrameSchema.validate\u001b[0;34m(self, check_obj, head, tail, sample, random_state, lazy, inplace)\u001b[0m\n\u001b[1;32m    502\u001b[0m     check_obj \u001b[39m=\u001b[39m check_obj\u001b[39m.\u001b[39mmap_partitions(\n\u001b[1;32m    503\u001b[0m         \u001b[39mself\u001b[39m\u001b[39m.\u001b[39m_validate,\n\u001b[1;32m    504\u001b[0m         head\u001b[39m=\u001b[39mhead,\n\u001b[0;32m   (...)\u001b[0m\n\u001b[1;32m    510\u001b[0m         meta\u001b[39m=\u001b[39mcheck_obj,\n\u001b[1;32m    511\u001b[0m     )\n\u001b[1;32m    513\u001b[0m     \u001b[39mreturn\u001b[39;00m check_obj\u001b[39m.\u001b[39mpandera\u001b[39m.\u001b[39madd_schema(\u001b[39mself\u001b[39m)\n\u001b[0;32m--> 515\u001b[0m \u001b[39mreturn\u001b[39;00m \u001b[39mself\u001b[39;49m\u001b[39m.\u001b[39;49m_validate(\n\u001b[1;32m    516\u001b[0m     check_obj\u001b[39m=\u001b[39;49mcheck_obj,\n\u001b[1;32m    517\u001b[0m     head\u001b[39m=\u001b[39;49mhead,\n\u001b[1;32m    518\u001b[0m     tail\u001b[39m=\u001b[39;49mtail,\n\u001b[1;32m    519\u001b[0m     sample\u001b[39m=\u001b[39;49msample,\n\u001b[1;32m    520\u001b[0m     random_state\u001b[39m=\u001b[39;49mrandom_state,\n\u001b[1;32m    521\u001b[0m     lazy\u001b[39m=\u001b[39;49mlazy,\n\u001b[1;32m    522\u001b[0m     inplace\u001b[39m=\u001b[39;49minplace,\n\u001b[1;32m    523\u001b[0m )\n",
      "File \u001b[0;32m~/opt/anaconda3/envs/pydatalondon2022/lib/python3.8/site-packages/pandera/schemas.py:712\u001b[0m, in \u001b[0;36mDataFrameSchema._validate\u001b[0;34m(self, check_obj, head, tail, sample, random_state, lazy, inplace)\u001b[0m\n\u001b[1;32m    710\u001b[0m     check_results\u001b[39m.\u001b[39mappend(check_utils\u001b[39m.\u001b[39mis_table(result))\n\u001b[1;32m    711\u001b[0m \u001b[39mexcept\u001b[39;00m errors\u001b[39m.\u001b[39mSchemaError \u001b[39mas\u001b[39;00m err:\n\u001b[0;32m--> 712\u001b[0m     error_handler\u001b[39m.\u001b[39;49mcollect_error(\u001b[39m\"\u001b[39;49m\u001b[39mschema_component_check\u001b[39;49m\u001b[39m\"\u001b[39;49m, err)\n\u001b[1;32m    713\u001b[0m \u001b[39mexcept\u001b[39;00m errors\u001b[39m.\u001b[39mSchemaErrors \u001b[39mas\u001b[39;00m err:\n\u001b[1;32m    714\u001b[0m     \u001b[39mfor\u001b[39;00m schema_error_dict \u001b[39min\u001b[39;00m err\u001b[39m.\u001b[39mschema_errors:\n",
      "File \u001b[0;32m~/opt/anaconda3/envs/pydatalondon2022/lib/python3.8/site-packages/pandera/error_handlers.py:32\u001b[0m, in \u001b[0;36mSchemaErrorHandler.collect_error\u001b[0;34m(self, reason_code, schema_error, original_exc)\u001b[0m\n\u001b[1;32m     26\u001b[0m \u001b[39m\"\"\"Collect schema error, raising exception if lazy is False.\u001b[39;00m\n\u001b[1;32m     27\u001b[0m \n\u001b[1;32m     28\u001b[0m \u001b[39m:param reason_code: string representing reason for error\u001b[39;00m\n\u001b[1;32m     29\u001b[0m \u001b[39m:param schema_error: ``SchemaError`` object.\u001b[39;00m\n\u001b[1;32m     30\u001b[0m \u001b[39m\"\"\"\u001b[39;00m\n\u001b[1;32m     31\u001b[0m \u001b[39mif\u001b[39;00m \u001b[39mnot\u001b[39;00m \u001b[39mself\u001b[39m\u001b[39m.\u001b[39m_lazy:\n\u001b[0;32m---> 32\u001b[0m     \u001b[39mraise\u001b[39;00m schema_error \u001b[39mfrom\u001b[39;00m \u001b[39moriginal_exc\u001b[39;00m\n\u001b[1;32m     34\u001b[0m \u001b[39m# delete data of validated object from SchemaError object to prevent\u001b[39;00m\n\u001b[1;32m     35\u001b[0m \u001b[39m# storing copies of the validated DataFrame/Series for every\u001b[39;00m\n\u001b[1;32m     36\u001b[0m \u001b[39m# SchemaError collected.\u001b[39;00m\n\u001b[1;32m     37\u001b[0m \u001b[39mdel\u001b[39;00m schema_error\u001b[39m.\u001b[39mdata\n",
      "File \u001b[0;32m~/opt/anaconda3/envs/pydatalondon2022/lib/python3.8/site-packages/pandera/schemas.py:704\u001b[0m, in \u001b[0;36mDataFrameSchema._validate\u001b[0;34m(self, check_obj, head, tail, sample, random_state, lazy, inplace)\u001b[0m\n\u001b[1;32m    702\u001b[0m \u001b[39mfor\u001b[39;00m schema_component \u001b[39min\u001b[39;00m schema_components:\n\u001b[1;32m    703\u001b[0m     \u001b[39mtry\u001b[39;00m:\n\u001b[0;32m--> 704\u001b[0m         result \u001b[39m=\u001b[39m schema_component(\n\u001b[1;32m    705\u001b[0m             df_to_validate,\n\u001b[1;32m    706\u001b[0m             lazy\u001b[39m=\u001b[39;49mlazy,\n\u001b[1;32m    707\u001b[0m             \u001b[39m# don't make a copy of the data\u001b[39;49;00m\n\u001b[1;32m    708\u001b[0m             inplace\u001b[39m=\u001b[39;49m\u001b[39mTrue\u001b[39;49;00m,\n\u001b[1;32m    709\u001b[0m         )\n\u001b[1;32m    710\u001b[0m         check_results\u001b[39m.\u001b[39mappend(check_utils\u001b[39m.\u001b[39mis_table(result))\n\u001b[1;32m    711\u001b[0m     \u001b[39mexcept\u001b[39;00m errors\u001b[39m.\u001b[39mSchemaError \u001b[39mas\u001b[39;00m err:\n",
      "File \u001b[0;32m~/opt/anaconda3/envs/pydatalondon2022/lib/python3.8/site-packages/pandera/schemas.py:2046\u001b[0m, in \u001b[0;36mSeriesSchemaBase.__call__\u001b[0;34m(self, check_obj, head, tail, sample, random_state, lazy, inplace)\u001b[0m\n\u001b[1;32m   2035\u001b[0m \u001b[39mdef\u001b[39;00m \u001b[39m__call__\u001b[39m(\n\u001b[1;32m   2036\u001b[0m     \u001b[39mself\u001b[39m,\n\u001b[1;32m   2037\u001b[0m     check_obj: Union[pd\u001b[39m.\u001b[39mDataFrame, pd\u001b[39m.\u001b[39mSeries],\n\u001b[0;32m   (...)\u001b[0m\n\u001b[1;32m   2043\u001b[0m     inplace: \u001b[39mbool\u001b[39m \u001b[39m=\u001b[39m \u001b[39mFalse\u001b[39;00m,\n\u001b[1;32m   2044\u001b[0m ) \u001b[39m-\u001b[39m\u001b[39m>\u001b[39m Union[pd\u001b[39m.\u001b[39mDataFrame, pd\u001b[39m.\u001b[39mSeries]:\n\u001b[1;32m   2045\u001b[0m     \u001b[39m\"\"\"Alias for ``validate`` method.\"\"\"\u001b[39;00m\n\u001b[0;32m-> 2046\u001b[0m     \u001b[39mreturn\u001b[39;00m \u001b[39mself\u001b[39;49m\u001b[39m.\u001b[39;49mvalidate(\n\u001b[1;32m   2047\u001b[0m         check_obj, head, tail, sample, random_state, lazy, inplace\n\u001b[1;32m   2048\u001b[0m     )\n",
      "File \u001b[0;32m~/opt/anaconda3/envs/pydatalondon2022/lib/python3.8/site-packages/pandera/schema_components.py:214\u001b[0m, in \u001b[0;36mColumn.validate\u001b[0;34m(self, check_obj, head, tail, sample, random_state, lazy, inplace)\u001b[0m\n\u001b[1;32m    210\u001b[0m             validate_column(\n\u001b[1;32m    211\u001b[0m                 check_obj[column_name]\u001b[39m.\u001b[39miloc[:, [i]], column_name\n\u001b[1;32m    212\u001b[0m             )\n\u001b[1;32m    213\u001b[0m     \u001b[39melse\u001b[39;00m:\n\u001b[0;32m--> 214\u001b[0m         validate_column(check_obj, column_name)\n\u001b[1;32m    216\u001b[0m \u001b[39mreturn\u001b[39;00m check_obj\n",
      "File \u001b[0;32m~/opt/anaconda3/envs/pydatalondon2022/lib/python3.8/site-packages/pandera/schema_components.py:187\u001b[0m, in \u001b[0;36mColumn.validate.<locals>.validate_column\u001b[0;34m(check_obj, column_name)\u001b[0m\n\u001b[1;32m    186\u001b[0m \u001b[39mdef\u001b[39;00m \u001b[39mvalidate_column\u001b[39m(check_obj, column_name):\n\u001b[0;32m--> 187\u001b[0m     \u001b[39msuper\u001b[39;49m(Column, copy(\u001b[39mself\u001b[39;49m)\u001b[39m.\u001b[39;49mset_name(column_name))\u001b[39m.\u001b[39;49mvalidate(\n\u001b[1;32m    188\u001b[0m         check_obj,\n\u001b[1;32m    189\u001b[0m         head,\n\u001b[1;32m    190\u001b[0m         tail,\n\u001b[1;32m    191\u001b[0m         sample,\n\u001b[1;32m    192\u001b[0m         random_state,\n\u001b[1;32m    193\u001b[0m         lazy,\n\u001b[1;32m    194\u001b[0m         inplace\u001b[39m=\u001b[39;49minplace,\n\u001b[1;32m    195\u001b[0m     )\n",
      "File \u001b[0;32m~/opt/anaconda3/envs/pydatalondon2022/lib/python3.8/site-packages/pandera/schemas.py:2004\u001b[0m, in \u001b[0;36mSeriesSchemaBase.validate\u001b[0;34m(self, check_obj, head, tail, sample, random_state, lazy, inplace)\u001b[0m\n\u001b[1;32m   1998\u001b[0m     check_results\u001b[39m.\u001b[39mappend(\n\u001b[1;32m   1999\u001b[0m         _handle_check_results(\n\u001b[1;32m   2000\u001b[0m             \u001b[39mself\u001b[39m, check_index, check, check_obj, \u001b[39m*\u001b[39mcheck_args\n\u001b[1;32m   2001\u001b[0m         )\n\u001b[1;32m   2002\u001b[0m     )\n\u001b[1;32m   2003\u001b[0m \u001b[39mexcept\u001b[39;00m errors\u001b[39m.\u001b[39mSchemaError \u001b[39mas\u001b[39;00m err:\n\u001b[0;32m-> 2004\u001b[0m     error_handler\u001b[39m.\u001b[39;49mcollect_error(\u001b[39m\"\u001b[39;49m\u001b[39mdataframe_check\u001b[39;49m\u001b[39m\"\u001b[39;49m, err)\n\u001b[1;32m   2005\u001b[0m \u001b[39mexcept\u001b[39;00m \u001b[39mException\u001b[39;00m \u001b[39mas\u001b[39;00m err:  \u001b[39m# pylint: disable=broad-except\u001b[39;00m\n\u001b[1;32m   2006\u001b[0m     \u001b[39m# catch other exceptions that may occur when executing the\u001b[39;00m\n\u001b[1;32m   2007\u001b[0m     \u001b[39m# Check\u001b[39;00m\n\u001b[1;32m   2008\u001b[0m     err_msg \u001b[39m=\u001b[39m \u001b[39mf\u001b[39m\u001b[39m'\u001b[39m\u001b[39m\"\u001b[39m\u001b[39m{\u001b[39;00merr\u001b[39m.\u001b[39margs[\u001b[39m0\u001b[39m]\u001b[39m}\u001b[39;00m\u001b[39m\"\u001b[39m\u001b[39m'\u001b[39m \u001b[39mif\u001b[39;00m \u001b[39mlen\u001b[39m(err\u001b[39m.\u001b[39margs) \u001b[39m>\u001b[39m \u001b[39m0\u001b[39m \u001b[39melse\u001b[39;00m \u001b[39m\"\u001b[39m\u001b[39m\"\u001b[39m\n",
      "File \u001b[0;32m~/opt/anaconda3/envs/pydatalondon2022/lib/python3.8/site-packages/pandera/error_handlers.py:32\u001b[0m, in \u001b[0;36mSchemaErrorHandler.collect_error\u001b[0;34m(self, reason_code, schema_error, original_exc)\u001b[0m\n\u001b[1;32m     26\u001b[0m \u001b[39m\"\"\"Collect schema error, raising exception if lazy is False.\u001b[39;00m\n\u001b[1;32m     27\u001b[0m \n\u001b[1;32m     28\u001b[0m \u001b[39m:param reason_code: string representing reason for error\u001b[39;00m\n\u001b[1;32m     29\u001b[0m \u001b[39m:param schema_error: ``SchemaError`` object.\u001b[39;00m\n\u001b[1;32m     30\u001b[0m \u001b[39m\"\"\"\u001b[39;00m\n\u001b[1;32m     31\u001b[0m \u001b[39mif\u001b[39;00m \u001b[39mnot\u001b[39;00m \u001b[39mself\u001b[39m\u001b[39m.\u001b[39m_lazy:\n\u001b[0;32m---> 32\u001b[0m     \u001b[39mraise\u001b[39;00m schema_error \u001b[39mfrom\u001b[39;00m \u001b[39moriginal_exc\u001b[39;00m\n\u001b[1;32m     34\u001b[0m \u001b[39m# delete data of validated object from SchemaError object to prevent\u001b[39;00m\n\u001b[1;32m     35\u001b[0m \u001b[39m# storing copies of the validated DataFrame/Series for every\u001b[39;00m\n\u001b[1;32m     36\u001b[0m \u001b[39m# SchemaError collected.\u001b[39;00m\n\u001b[1;32m     37\u001b[0m \u001b[39mdel\u001b[39;00m schema_error\u001b[39m.\u001b[39mdata\n",
      "File \u001b[0;32m~/opt/anaconda3/envs/pydatalondon2022/lib/python3.8/site-packages/pandera/schemas.py:1999\u001b[0m, in \u001b[0;36mSeriesSchemaBase.validate\u001b[0;34m(self, check_obj, head, tail, sample, random_state, lazy, inplace)\u001b[0m\n\u001b[1;32m   1996\u001b[0m \u001b[39mfor\u001b[39;00m check_index, check \u001b[39min\u001b[39;00m \u001b[39menumerate\u001b[39m(\u001b[39mself\u001b[39m\u001b[39m.\u001b[39mchecks):\n\u001b[1;32m   1997\u001b[0m     \u001b[39mtry\u001b[39;00m:\n\u001b[1;32m   1998\u001b[0m         check_results\u001b[39m.\u001b[39mappend(\n\u001b[0;32m-> 1999\u001b[0m             _handle_check_results(\n\u001b[1;32m   2000\u001b[0m                 \u001b[39mself\u001b[39;49m, check_index, check, check_obj, \u001b[39m*\u001b[39;49mcheck_args\n\u001b[1;32m   2001\u001b[0m             )\n\u001b[1;32m   2002\u001b[0m         )\n\u001b[1;32m   2003\u001b[0m     \u001b[39mexcept\u001b[39;00m errors\u001b[39m.\u001b[39mSchemaError \u001b[39mas\u001b[39;00m err:\n\u001b[1;32m   2004\u001b[0m         error_handler\u001b[39m.\u001b[39mcollect_error(\u001b[39m\"\u001b[39m\u001b[39mdataframe_check\u001b[39m\u001b[39m\"\u001b[39m, err)\n",
      "File \u001b[0;32m~/opt/anaconda3/envs/pydatalondon2022/lib/python3.8/site-packages/pandera/schemas.py:2385\u001b[0m, in \u001b[0;36m_handle_check_results\u001b[0;34m(schema, check_index, check, check_obj, *check_args)\u001b[0m\n\u001b[1;32m   2383\u001b[0m         warnings\u001b[39m.\u001b[39mwarn(error_msg, \u001b[39mUserWarning\u001b[39;00m)\n\u001b[1;32m   2384\u001b[0m         \u001b[39mreturn\u001b[39;00m \u001b[39mTrue\u001b[39;00m\n\u001b[0;32m-> 2385\u001b[0m     \u001b[39mraise\u001b[39;00m errors\u001b[39m.\u001b[39mSchemaError(\n\u001b[1;32m   2386\u001b[0m         schema,\n\u001b[1;32m   2387\u001b[0m         check_obj,\n\u001b[1;32m   2388\u001b[0m         error_msg,\n\u001b[1;32m   2389\u001b[0m         failure_cases\u001b[39m=\u001b[39mfailure_cases,\n\u001b[1;32m   2390\u001b[0m         check\u001b[39m=\u001b[39mcheck,\n\u001b[1;32m   2391\u001b[0m         check_index\u001b[39m=\u001b[39mcheck_index,\n\u001b[1;32m   2392\u001b[0m         check_output\u001b[39m=\u001b[39mcheck_result\u001b[39m.\u001b[39mcheck_output,\n\u001b[1;32m   2393\u001b[0m     )\n\u001b[1;32m   2394\u001b[0m \u001b[39mreturn\u001b[39;00m check_result\u001b[39m.\u001b[39mcheck_passed\n",
      "\u001b[0;31mSchemaError\u001b[0m: <Schema Column(name=LotConfig, type=DataType(str))> failed element-wise validator 0:\n<Check isin: isin({'FR3', 'Corner', 'Inside', 'CulDSac'})>\nfailure cases:\n    index failure_case\n0       1          FR2\n1       4          FR2\n2      81          FR2\n3     140          FR2\n4     195          FR2\n5     214          FR2\n6     223          FR2\n7     228          FR2\n8     236          FR2\n9     266          FR2\n10    364          FR2\n11    386          FR2\n12    421          FR2\n13    480          FR2\n14    483          FR2\n15    537          FR2\n16    541          FR2\n17    558          FR2\n18    574          FR2\n19    611          FR2\n20    670          FR2\n21    687          FR2\n22    761          FR2\n23    775          FR2\n24    805          FR2\n25    849          FR2\n26    933          FR2\n27    941          FR2\n28    959          FR2\n29    975          FR2\n30    994          FR2\n31   1018          FR2\n32   1057          FR2\n33   1117          FR2\n34   1158          FR2\n35   1164          FR2\n36   1178          FR2\n37   1193          FR2\n38   1232          FR2\n39   1237          FR2\n40   1259          FR2\n41   1362          FR2\n42   1369          FR2\n43   1436          FR2\n44   1437          FR2\n45   1444          FR2\n46   1450          FR2"
     ]
    }
   ],
   "source": [
    "# Validating the home_data DataFrame against the lot_config_values_schema will throw an error\n",
    "lot_config_values_schema.validate(home_data[feature_names])"
   ]
  },
  {
   "cell_type": "markdown",
   "metadata": {
    "pycharm": {
     "name": "#%% md\n"
    }
   },
   "source": [
    "Other useful methods for `pa.Check` are:"
   ]
  },
  {
   "cell_type": "markdown",
   "metadata": {
    "pycharm": {
     "name": "#%% md\n"
    }
   },
   "source": [
    "<li class=\"toctree-l4\"><a class=\"reference internal\" href=\"methods/pandera.checks.Check.eq.html\">pandera.checks.Check.eq</a></li>\n",
    "<li class=\"toctree-l4\"><a class=\"reference internal\" href=\"methods/pandera.checks.Check.equal_to.html\">pandera.checks.Check.equal_to</a></li>\n",
    "<li class=\"toctree-l4\"><a class=\"reference internal\" href=\"methods/pandera.checks.Check.ge.html\">pandera.checks.Check.ge</a></li>\n",
    "<li class=\"toctree-l4\"><a class=\"reference internal\" href=\"methods/pandera.checks.Check.greater_than.html\">pandera.checks.Check.greater_than</a></li>\n",
    "<li class=\"toctree-l4\"><a class=\"reference internal\" href=\"methods/pandera.checks.Check.greater_than_or_equal_to.html\">pandera.checks.Check.greater_than_or_equal_to</a></li>\n",
    "<li class=\"toctree-l4\"><a class=\"reference internal\" href=\"methods/pandera.checks.Check.gt.html\">pandera.checks.Check.gt</a></li>\n",
    "<li class=\"toctree-l4\"><a class=\"reference internal\" href=\"methods/pandera.checks.Check.in_range.html\">pandera.checks.Check.in_range</a></li>\n",
    "<li class=\"toctree-l4\"><a class=\"reference internal\" href=\"methods/pandera.checks.Check.isin.html\">pandera.checks.Check.isin</a></li>\n",
    "<li class=\"toctree-l4\"><a class=\"reference internal\" href=\"methods/pandera.checks.Check.le.html\">pandera.checks.Check.le</a></li>\n",
    "<li class=\"toctree-l4\"><a class=\"reference internal\" href=\"methods/pandera.checks.Check.less_than.html\">pandera.checks.Check.less_than</a></li>\n",
    "<li class=\"toctree-l4\"><a class=\"reference internal\" href=\"methods/pandera.checks.Check.less_than_or_equal_to.html\">pandera.checks.Check.less_than_or_equal_to</a></li>\n",
    "<li class=\"toctree-l4\"><a class=\"reference internal\" href=\"methods/pandera.checks.Check.lt.html\">pandera.checks.Check.lt</a></li>\n",
    "<li class=\"toctree-l4\"><a class=\"reference internal\" href=\"methods/pandera.checks.Check.ne.html\">pandera.checks.Check.ne</a></li>\n",
    "<li class=\"toctree-l4\"><a class=\"reference internal\" href=\"methods/pandera.checks.Check.not_equal_to.html\">pandera.checks.Check.not_equal_to</a></li>\n",
    "<li class=\"toctree-l4\"><a class=\"reference internal\" href=\"methods/pandera.checks.Check.notin.html\">pandera.checks.Check.notin</a></li>\n",
    "<li class=\"toctree-l4\"><a class=\"reference internal\" href=\"methods/pandera.checks.Check.str_contains.html\">pandera.checks.Check.str_contains</a></li>\n",
    "<li class=\"toctree-l4\"><a class=\"reference internal\" href=\"methods/pandera.checks.Check.str_endswith.html\">pandera.checks.Check.str_endswith</a></li>\n",
    "<li class=\"toctree-l4\"><a class=\"reference internal\" href=\"methods/pandera.checks.Check.str_length.html\">pandera.checks.Check.str_length</a></li>\n",
    "<li class=\"toctree-l4\"><a class=\"reference internal\" href=\"methods/pandera.checks.Check.str_matches.html\">pandera.checks.Check.str_matches</a></li>\n",
    "<li class=\"toctree-l4\"><a class=\"reference internal\" href=\"methods/pandera.checks.Check.str_startswith.html\">pandera.checks.Check.str_startswith</a></li>\n",
    "<li class=\"toctree-l4\"><a class=\"reference internal\" href=\"methods/pandera.checks.Check.__call__.html\">pandera.checks.Check.__call__</a></li>"
   ]
  },
  {
   "cell_type": "markdown",
   "metadata": {
    "pycharm": {
     "name": "#%% md\n"
    }
   },
   "source": [
    "#### 5. DataFrame Schemas - `Coerce`"
   ]
  },
  {
   "cell_type": "markdown",
   "metadata": {
    "pycharm": {
     "name": "#%% md\n"
    }
   },
   "source": [
    "`Coerce` allows forcing type onto a specific dataframe column"
   ]
  },
  {
   "cell_type": "code",
   "execution_count": 24,
   "metadata": {
    "pycharm": {
     "name": "#%%\n"
    }
   },
   "outputs": [
    {
     "data": {
      "text/plain": [
       "dtype('int64')"
      ]
     },
     "execution_count": 24,
     "metadata": {},
     "output_type": "execute_result"
    }
   ],
   "source": [
    "home_data.LotArea.dtype"
   ]
  },
  {
   "cell_type": "code",
   "execution_count": 25,
   "metadata": {
    "pycharm": {
     "name": "#%%\n"
    }
   },
   "outputs": [],
   "source": [
    "coerce_schema = pa.DataFrameSchema(\n",
    "    columns={\"LotArea\": pa.Column(float)},\n",
    "    coerce=False,\n",
    ")"
   ]
  },
  {
   "cell_type": "code",
   "execution_count": 26,
   "metadata": {
    "pycharm": {
     "name": "#%%\n"
    }
   },
   "outputs": [
    {
     "ename": "SchemaError",
     "evalue": "expected series 'LotArea' to have type float64, got int64",
     "output_type": "error",
     "traceback": [
      "\u001b[0;31m---------------------------------------------------------------------------\u001b[0m",
      "\u001b[0;31mSchemaError\u001b[0m                               Traceback (most recent call last)",
      "\u001b[1;32m/Users/samia/Downloads/PyDataLondon2022/Friday_TS2_0900/notebooks/2_training_pipeline_data_validation.ipynb Cell 47'\u001b[0m in \u001b[0;36m<cell line: 1>\u001b[0;34m()\u001b[0m\n\u001b[0;32m----> <a href='vscode-notebook-cell:/Users/samia/Downloads/PyDataLondon2022/Friday_TS2_0900/notebooks/2_training_pipeline_data_validation.ipynb#ch0000046?line=0'>1</a>\u001b[0m coerce_schema\u001b[39m.\u001b[39;49mvalidate(home_data)\n",
      "File \u001b[0;32m~/opt/anaconda3/envs/pydatalondon2022/lib/python3.8/site-packages/pandera/schemas.py:515\u001b[0m, in \u001b[0;36mDataFrameSchema.validate\u001b[0;34m(self, check_obj, head, tail, sample, random_state, lazy, inplace)\u001b[0m\n\u001b[1;32m    502\u001b[0m     check_obj \u001b[39m=\u001b[39m check_obj\u001b[39m.\u001b[39mmap_partitions(\n\u001b[1;32m    503\u001b[0m         \u001b[39mself\u001b[39m\u001b[39m.\u001b[39m_validate,\n\u001b[1;32m    504\u001b[0m         head\u001b[39m=\u001b[39mhead,\n\u001b[0;32m   (...)\u001b[0m\n\u001b[1;32m    510\u001b[0m         meta\u001b[39m=\u001b[39mcheck_obj,\n\u001b[1;32m    511\u001b[0m     )\n\u001b[1;32m    513\u001b[0m     \u001b[39mreturn\u001b[39;00m check_obj\u001b[39m.\u001b[39mpandera\u001b[39m.\u001b[39madd_schema(\u001b[39mself\u001b[39m)\n\u001b[0;32m--> 515\u001b[0m \u001b[39mreturn\u001b[39;00m \u001b[39mself\u001b[39;49m\u001b[39m.\u001b[39;49m_validate(\n\u001b[1;32m    516\u001b[0m     check_obj\u001b[39m=\u001b[39;49mcheck_obj,\n\u001b[1;32m    517\u001b[0m     head\u001b[39m=\u001b[39;49mhead,\n\u001b[1;32m    518\u001b[0m     tail\u001b[39m=\u001b[39;49mtail,\n\u001b[1;32m    519\u001b[0m     sample\u001b[39m=\u001b[39;49msample,\n\u001b[1;32m    520\u001b[0m     random_state\u001b[39m=\u001b[39;49mrandom_state,\n\u001b[1;32m    521\u001b[0m     lazy\u001b[39m=\u001b[39;49mlazy,\n\u001b[1;32m    522\u001b[0m     inplace\u001b[39m=\u001b[39;49minplace,\n\u001b[1;32m    523\u001b[0m )\n",
      "File \u001b[0;32m~/opt/anaconda3/envs/pydatalondon2022/lib/python3.8/site-packages/pandera/schemas.py:712\u001b[0m, in \u001b[0;36mDataFrameSchema._validate\u001b[0;34m(self, check_obj, head, tail, sample, random_state, lazy, inplace)\u001b[0m\n\u001b[1;32m    710\u001b[0m     check_results\u001b[39m.\u001b[39mappend(check_utils\u001b[39m.\u001b[39mis_table(result))\n\u001b[1;32m    711\u001b[0m \u001b[39mexcept\u001b[39;00m errors\u001b[39m.\u001b[39mSchemaError \u001b[39mas\u001b[39;00m err:\n\u001b[0;32m--> 712\u001b[0m     error_handler\u001b[39m.\u001b[39;49mcollect_error(\u001b[39m\"\u001b[39;49m\u001b[39mschema_component_check\u001b[39;49m\u001b[39m\"\u001b[39;49m, err)\n\u001b[1;32m    713\u001b[0m \u001b[39mexcept\u001b[39;00m errors\u001b[39m.\u001b[39mSchemaErrors \u001b[39mas\u001b[39;00m err:\n\u001b[1;32m    714\u001b[0m     \u001b[39mfor\u001b[39;00m schema_error_dict \u001b[39min\u001b[39;00m err\u001b[39m.\u001b[39mschema_errors:\n",
      "File \u001b[0;32m~/opt/anaconda3/envs/pydatalondon2022/lib/python3.8/site-packages/pandera/error_handlers.py:32\u001b[0m, in \u001b[0;36mSchemaErrorHandler.collect_error\u001b[0;34m(self, reason_code, schema_error, original_exc)\u001b[0m\n\u001b[1;32m     26\u001b[0m \u001b[39m\"\"\"Collect schema error, raising exception if lazy is False.\u001b[39;00m\n\u001b[1;32m     27\u001b[0m \n\u001b[1;32m     28\u001b[0m \u001b[39m:param reason_code: string representing reason for error\u001b[39;00m\n\u001b[1;32m     29\u001b[0m \u001b[39m:param schema_error: ``SchemaError`` object.\u001b[39;00m\n\u001b[1;32m     30\u001b[0m \u001b[39m\"\"\"\u001b[39;00m\n\u001b[1;32m     31\u001b[0m \u001b[39mif\u001b[39;00m \u001b[39mnot\u001b[39;00m \u001b[39mself\u001b[39m\u001b[39m.\u001b[39m_lazy:\n\u001b[0;32m---> 32\u001b[0m     \u001b[39mraise\u001b[39;00m schema_error \u001b[39mfrom\u001b[39;00m \u001b[39moriginal_exc\u001b[39;00m\n\u001b[1;32m     34\u001b[0m \u001b[39m# delete data of validated object from SchemaError object to prevent\u001b[39;00m\n\u001b[1;32m     35\u001b[0m \u001b[39m# storing copies of the validated DataFrame/Series for every\u001b[39;00m\n\u001b[1;32m     36\u001b[0m \u001b[39m# SchemaError collected.\u001b[39;00m\n\u001b[1;32m     37\u001b[0m \u001b[39mdel\u001b[39;00m schema_error\u001b[39m.\u001b[39mdata\n",
      "File \u001b[0;32m~/opt/anaconda3/envs/pydatalondon2022/lib/python3.8/site-packages/pandera/schemas.py:704\u001b[0m, in \u001b[0;36mDataFrameSchema._validate\u001b[0;34m(self, check_obj, head, tail, sample, random_state, lazy, inplace)\u001b[0m\n\u001b[1;32m    702\u001b[0m \u001b[39mfor\u001b[39;00m schema_component \u001b[39min\u001b[39;00m schema_components:\n\u001b[1;32m    703\u001b[0m     \u001b[39mtry\u001b[39;00m:\n\u001b[0;32m--> 704\u001b[0m         result \u001b[39m=\u001b[39m schema_component(\n\u001b[1;32m    705\u001b[0m             df_to_validate,\n\u001b[1;32m    706\u001b[0m             lazy\u001b[39m=\u001b[39;49mlazy,\n\u001b[1;32m    707\u001b[0m             \u001b[39m# don't make a copy of the data\u001b[39;49;00m\n\u001b[1;32m    708\u001b[0m             inplace\u001b[39m=\u001b[39;49m\u001b[39mTrue\u001b[39;49;00m,\n\u001b[1;32m    709\u001b[0m         )\n\u001b[1;32m    710\u001b[0m         check_results\u001b[39m.\u001b[39mappend(check_utils\u001b[39m.\u001b[39mis_table(result))\n\u001b[1;32m    711\u001b[0m     \u001b[39mexcept\u001b[39;00m errors\u001b[39m.\u001b[39mSchemaError \u001b[39mas\u001b[39;00m err:\n",
      "File \u001b[0;32m~/opt/anaconda3/envs/pydatalondon2022/lib/python3.8/site-packages/pandera/schemas.py:2046\u001b[0m, in \u001b[0;36mSeriesSchemaBase.__call__\u001b[0;34m(self, check_obj, head, tail, sample, random_state, lazy, inplace)\u001b[0m\n\u001b[1;32m   2035\u001b[0m \u001b[39mdef\u001b[39;00m \u001b[39m__call__\u001b[39m(\n\u001b[1;32m   2036\u001b[0m     \u001b[39mself\u001b[39m,\n\u001b[1;32m   2037\u001b[0m     check_obj: Union[pd\u001b[39m.\u001b[39mDataFrame, pd\u001b[39m.\u001b[39mSeries],\n\u001b[0;32m   (...)\u001b[0m\n\u001b[1;32m   2043\u001b[0m     inplace: \u001b[39mbool\u001b[39m \u001b[39m=\u001b[39m \u001b[39mFalse\u001b[39;00m,\n\u001b[1;32m   2044\u001b[0m ) \u001b[39m-\u001b[39m\u001b[39m>\u001b[39m Union[pd\u001b[39m.\u001b[39mDataFrame, pd\u001b[39m.\u001b[39mSeries]:\n\u001b[1;32m   2045\u001b[0m     \u001b[39m\"\"\"Alias for ``validate`` method.\"\"\"\u001b[39;00m\n\u001b[0;32m-> 2046\u001b[0m     \u001b[39mreturn\u001b[39;00m \u001b[39mself\u001b[39;49m\u001b[39m.\u001b[39;49mvalidate(\n\u001b[1;32m   2047\u001b[0m         check_obj, head, tail, sample, random_state, lazy, inplace\n\u001b[1;32m   2048\u001b[0m     )\n",
      "File \u001b[0;32m~/opt/anaconda3/envs/pydatalondon2022/lib/python3.8/site-packages/pandera/schema_components.py:214\u001b[0m, in \u001b[0;36mColumn.validate\u001b[0;34m(self, check_obj, head, tail, sample, random_state, lazy, inplace)\u001b[0m\n\u001b[1;32m    210\u001b[0m             validate_column(\n\u001b[1;32m    211\u001b[0m                 check_obj[column_name]\u001b[39m.\u001b[39miloc[:, [i]], column_name\n\u001b[1;32m    212\u001b[0m             )\n\u001b[1;32m    213\u001b[0m     \u001b[39melse\u001b[39;00m:\n\u001b[0;32m--> 214\u001b[0m         validate_column(check_obj, column_name)\n\u001b[1;32m    216\u001b[0m \u001b[39mreturn\u001b[39;00m check_obj\n",
      "File \u001b[0;32m~/opt/anaconda3/envs/pydatalondon2022/lib/python3.8/site-packages/pandera/schema_components.py:187\u001b[0m, in \u001b[0;36mColumn.validate.<locals>.validate_column\u001b[0;34m(check_obj, column_name)\u001b[0m\n\u001b[1;32m    186\u001b[0m \u001b[39mdef\u001b[39;00m \u001b[39mvalidate_column\u001b[39m(check_obj, column_name):\n\u001b[0;32m--> 187\u001b[0m     \u001b[39msuper\u001b[39;49m(Column, copy(\u001b[39mself\u001b[39;49m)\u001b[39m.\u001b[39;49mset_name(column_name))\u001b[39m.\u001b[39;49mvalidate(\n\u001b[1;32m    188\u001b[0m         check_obj,\n\u001b[1;32m    189\u001b[0m         head,\n\u001b[1;32m    190\u001b[0m         tail,\n\u001b[1;32m    191\u001b[0m         sample,\n\u001b[1;32m    192\u001b[0m         random_state,\n\u001b[1;32m    193\u001b[0m         lazy,\n\u001b[1;32m    194\u001b[0m         inplace\u001b[39m=\u001b[39;49minplace,\n\u001b[1;32m    195\u001b[0m     )\n",
      "File \u001b[0;32m~/opt/anaconda3/envs/pydatalondon2022/lib/python3.8/site-packages/pandera/schemas.py:1979\u001b[0m, in \u001b[0;36mSeriesSchemaBase.validate\u001b[0;34m(self, check_obj, head, tail, sample, random_state, lazy, inplace)\u001b[0m\n\u001b[1;32m   1972\u001b[0m \u001b[39mif\u001b[39;00m \u001b[39mself\u001b[39m\u001b[39m.\u001b[39m_dtype \u001b[39mis\u001b[39;00m \u001b[39mnot\u001b[39;00m \u001b[39mNone\u001b[39;00m \u001b[39mand\u001b[39;00m (\n\u001b[1;32m   1973\u001b[0m     \u001b[39mnot\u001b[39;00m \u001b[39mself\u001b[39m\u001b[39m.\u001b[39m_dtype\u001b[39m.\u001b[39mcheck(pandas_engine\u001b[39m.\u001b[39mEngine\u001b[39m.\u001b[39mdtype(series\u001b[39m.\u001b[39mdtype))\n\u001b[1;32m   1974\u001b[0m ):\n\u001b[1;32m   1975\u001b[0m     msg \u001b[39m=\u001b[39m (\n\u001b[1;32m   1976\u001b[0m         \u001b[39mf\u001b[39m\u001b[39m\"\u001b[39m\u001b[39mexpected series \u001b[39m\u001b[39m'\u001b[39m\u001b[39m{\u001b[39;00mseries\u001b[39m.\u001b[39mname\u001b[39m}\u001b[39;00m\u001b[39m'\u001b[39m\u001b[39m to have type \u001b[39m\u001b[39m{\u001b[39;00m\u001b[39mself\u001b[39m\u001b[39m.\u001b[39m_dtype\u001b[39m}\u001b[39;00m\u001b[39m, \u001b[39m\u001b[39m\"\u001b[39m\n\u001b[1;32m   1977\u001b[0m         \u001b[39m+\u001b[39m \u001b[39mf\u001b[39m\u001b[39m\"\u001b[39m\u001b[39mgot \u001b[39m\u001b[39m{\u001b[39;00mseries\u001b[39m.\u001b[39mdtype\u001b[39m}\u001b[39;00m\u001b[39m\"\u001b[39m\n\u001b[1;32m   1978\u001b[0m     )\n\u001b[0;32m-> 1979\u001b[0m     error_handler\u001b[39m.\u001b[39;49mcollect_error(\n\u001b[1;32m   1980\u001b[0m         \u001b[39m\"\u001b[39;49m\u001b[39mwrong_dtype\u001b[39;49m\u001b[39m\"\u001b[39;49m,\n\u001b[1;32m   1981\u001b[0m         errors\u001b[39m.\u001b[39;49mSchemaError(\n\u001b[1;32m   1982\u001b[0m             \u001b[39mself\u001b[39;49m,\n\u001b[1;32m   1983\u001b[0m             check_obj,\n\u001b[1;32m   1984\u001b[0m             msg,\n\u001b[1;32m   1985\u001b[0m             failure_cases\u001b[39m=\u001b[39;49mscalar_failure_case(\u001b[39mstr\u001b[39;49m(series\u001b[39m.\u001b[39;49mdtype)),\n\u001b[1;32m   1986\u001b[0m             check\u001b[39m=\u001b[39;49m\u001b[39mf\u001b[39;49m\u001b[39m\"\u001b[39;49m\u001b[39mdtype(\u001b[39;49m\u001b[39m'\u001b[39;49m\u001b[39m{\u001b[39;49;00m\u001b[39mself\u001b[39;49m\u001b[39m.\u001b[39;49mdtype\u001b[39m}\u001b[39;49;00m\u001b[39m'\u001b[39;49m\u001b[39m)\u001b[39;49m\u001b[39m\"\u001b[39;49m,\n\u001b[1;32m   1987\u001b[0m         ),\n\u001b[1;32m   1988\u001b[0m     )\n\u001b[1;32m   1990\u001b[0m check_results \u001b[39m=\u001b[39m []\n\u001b[1;32m   1991\u001b[0m \u001b[39mif\u001b[39;00m check_utils\u001b[39m.\u001b[39mis_field(check_obj):\n",
      "File \u001b[0;32m~/opt/anaconda3/envs/pydatalondon2022/lib/python3.8/site-packages/pandera/error_handlers.py:32\u001b[0m, in \u001b[0;36mSchemaErrorHandler.collect_error\u001b[0;34m(self, reason_code, schema_error, original_exc)\u001b[0m\n\u001b[1;32m     26\u001b[0m \u001b[39m\"\"\"Collect schema error, raising exception if lazy is False.\u001b[39;00m\n\u001b[1;32m     27\u001b[0m \n\u001b[1;32m     28\u001b[0m \u001b[39m:param reason_code: string representing reason for error\u001b[39;00m\n\u001b[1;32m     29\u001b[0m \u001b[39m:param schema_error: ``SchemaError`` object.\u001b[39;00m\n\u001b[1;32m     30\u001b[0m \u001b[39m\"\"\"\u001b[39;00m\n\u001b[1;32m     31\u001b[0m \u001b[39mif\u001b[39;00m \u001b[39mnot\u001b[39;00m \u001b[39mself\u001b[39m\u001b[39m.\u001b[39m_lazy:\n\u001b[0;32m---> 32\u001b[0m     \u001b[39mraise\u001b[39;00m schema_error \u001b[39mfrom\u001b[39;00m \u001b[39moriginal_exc\u001b[39;00m\n\u001b[1;32m     34\u001b[0m \u001b[39m# delete data of validated object from SchemaError object to prevent\u001b[39;00m\n\u001b[1;32m     35\u001b[0m \u001b[39m# storing copies of the validated DataFrame/Series for every\u001b[39;00m\n\u001b[1;32m     36\u001b[0m \u001b[39m# SchemaError collected.\u001b[39;00m\n\u001b[1;32m     37\u001b[0m \u001b[39mdel\u001b[39;00m schema_error\u001b[39m.\u001b[39mdata\n",
      "\u001b[0;31mSchemaError\u001b[0m: expected series 'LotArea' to have type float64, got int64"
     ]
    }
   ],
   "source": [
    "coerce_schema.validate(home_data)"
   ]
  },
  {
   "cell_type": "code",
   "execution_count": 27,
   "metadata": {
    "pycharm": {
     "name": "#%%\n"
    }
   },
   "outputs": [],
   "source": [
    "# and if we set coerce to True, we can coerce the dataframe to the schema\n",
    "coerce_schema = pa.DataFrameSchema(\n",
    "    columns={\"LotArea\": pa.Column(float)},\n",
    "    coerce=True,\n",
    ")"
   ]
  },
  {
   "cell_type": "code",
   "execution_count": 28,
   "metadata": {
    "pycharm": {
     "name": "#%%\n"
    }
   },
   "outputs": [
    {
     "data": {
      "text/html": [
       "<div>\n",
       "<style scoped>\n",
       "    .dataframe tbody tr th:only-of-type {\n",
       "        vertical-align: middle;\n",
       "    }\n",
       "\n",
       "    .dataframe tbody tr th {\n",
       "        vertical-align: top;\n",
       "    }\n",
       "\n",
       "    .dataframe thead th {\n",
       "        text-align: right;\n",
       "    }\n",
       "</style>\n",
       "<table border=\"1\" class=\"dataframe\">\n",
       "  <thead>\n",
       "    <tr style=\"text-align: right;\">\n",
       "      <th></th>\n",
       "      <th>Id</th>\n",
       "      <th>MSSubClass</th>\n",
       "      <th>MSZoning</th>\n",
       "      <th>LotFrontage</th>\n",
       "      <th>LotArea</th>\n",
       "      <th>Street</th>\n",
       "      <th>Alley</th>\n",
       "      <th>LotShape</th>\n",
       "      <th>LandContour</th>\n",
       "      <th>Utilities</th>\n",
       "      <th>...</th>\n",
       "      <th>PoolArea</th>\n",
       "      <th>PoolQC</th>\n",
       "      <th>Fence</th>\n",
       "      <th>MiscFeature</th>\n",
       "      <th>MiscVal</th>\n",
       "      <th>MoSold</th>\n",
       "      <th>YrSold</th>\n",
       "      <th>SaleType</th>\n",
       "      <th>SaleCondition</th>\n",
       "      <th>SalePrice</th>\n",
       "    </tr>\n",
       "  </thead>\n",
       "  <tbody>\n",
       "    <tr>\n",
       "      <th>0</th>\n",
       "      <td>1</td>\n",
       "      <td>60</td>\n",
       "      <td>RL</td>\n",
       "      <td>65.0</td>\n",
       "      <td>8450.0</td>\n",
       "      <td>Pave</td>\n",
       "      <td>NaN</td>\n",
       "      <td>Reg</td>\n",
       "      <td>Lvl</td>\n",
       "      <td>AllPub</td>\n",
       "      <td>...</td>\n",
       "      <td>0</td>\n",
       "      <td>NaN</td>\n",
       "      <td>NaN</td>\n",
       "      <td>NaN</td>\n",
       "      <td>0</td>\n",
       "      <td>2</td>\n",
       "      <td>2008</td>\n",
       "      <td>WD</td>\n",
       "      <td>Normal</td>\n",
       "      <td>208500</td>\n",
       "    </tr>\n",
       "    <tr>\n",
       "      <th>1</th>\n",
       "      <td>2</td>\n",
       "      <td>20</td>\n",
       "      <td>RL</td>\n",
       "      <td>80.0</td>\n",
       "      <td>9600.0</td>\n",
       "      <td>Pave</td>\n",
       "      <td>NaN</td>\n",
       "      <td>Reg</td>\n",
       "      <td>Lvl</td>\n",
       "      <td>AllPub</td>\n",
       "      <td>...</td>\n",
       "      <td>0</td>\n",
       "      <td>NaN</td>\n",
       "      <td>NaN</td>\n",
       "      <td>NaN</td>\n",
       "      <td>0</td>\n",
       "      <td>5</td>\n",
       "      <td>2007</td>\n",
       "      <td>WD</td>\n",
       "      <td>Normal</td>\n",
       "      <td>181500</td>\n",
       "    </tr>\n",
       "    <tr>\n",
       "      <th>2</th>\n",
       "      <td>3</td>\n",
       "      <td>60</td>\n",
       "      <td>RL</td>\n",
       "      <td>68.0</td>\n",
       "      <td>11250.0</td>\n",
       "      <td>Pave</td>\n",
       "      <td>NaN</td>\n",
       "      <td>IR1</td>\n",
       "      <td>Lvl</td>\n",
       "      <td>AllPub</td>\n",
       "      <td>...</td>\n",
       "      <td>0</td>\n",
       "      <td>NaN</td>\n",
       "      <td>NaN</td>\n",
       "      <td>NaN</td>\n",
       "      <td>0</td>\n",
       "      <td>9</td>\n",
       "      <td>2008</td>\n",
       "      <td>WD</td>\n",
       "      <td>Normal</td>\n",
       "      <td>223500</td>\n",
       "    </tr>\n",
       "    <tr>\n",
       "      <th>3</th>\n",
       "      <td>4</td>\n",
       "      <td>70</td>\n",
       "      <td>RL</td>\n",
       "      <td>60.0</td>\n",
       "      <td>9550.0</td>\n",
       "      <td>Pave</td>\n",
       "      <td>NaN</td>\n",
       "      <td>IR1</td>\n",
       "      <td>Lvl</td>\n",
       "      <td>AllPub</td>\n",
       "      <td>...</td>\n",
       "      <td>0</td>\n",
       "      <td>NaN</td>\n",
       "      <td>NaN</td>\n",
       "      <td>NaN</td>\n",
       "      <td>0</td>\n",
       "      <td>2</td>\n",
       "      <td>2006</td>\n",
       "      <td>WD</td>\n",
       "      <td>Abnorml</td>\n",
       "      <td>140000</td>\n",
       "    </tr>\n",
       "    <tr>\n",
       "      <th>4</th>\n",
       "      <td>5</td>\n",
       "      <td>60</td>\n",
       "      <td>RL</td>\n",
       "      <td>84.0</td>\n",
       "      <td>14260.0</td>\n",
       "      <td>Pave</td>\n",
       "      <td>NaN</td>\n",
       "      <td>IR1</td>\n",
       "      <td>Lvl</td>\n",
       "      <td>AllPub</td>\n",
       "      <td>...</td>\n",
       "      <td>0</td>\n",
       "      <td>NaN</td>\n",
       "      <td>NaN</td>\n",
       "      <td>NaN</td>\n",
       "      <td>0</td>\n",
       "      <td>12</td>\n",
       "      <td>2008</td>\n",
       "      <td>WD</td>\n",
       "      <td>Normal</td>\n",
       "      <td>250000</td>\n",
       "    </tr>\n",
       "    <tr>\n",
       "      <th>...</th>\n",
       "      <td>...</td>\n",
       "      <td>...</td>\n",
       "      <td>...</td>\n",
       "      <td>...</td>\n",
       "      <td>...</td>\n",
       "      <td>...</td>\n",
       "      <td>...</td>\n",
       "      <td>...</td>\n",
       "      <td>...</td>\n",
       "      <td>...</td>\n",
       "      <td>...</td>\n",
       "      <td>...</td>\n",
       "      <td>...</td>\n",
       "      <td>...</td>\n",
       "      <td>...</td>\n",
       "      <td>...</td>\n",
       "      <td>...</td>\n",
       "      <td>...</td>\n",
       "      <td>...</td>\n",
       "      <td>...</td>\n",
       "      <td>...</td>\n",
       "    </tr>\n",
       "    <tr>\n",
       "      <th>1455</th>\n",
       "      <td>1456</td>\n",
       "      <td>60</td>\n",
       "      <td>RL</td>\n",
       "      <td>62.0</td>\n",
       "      <td>7917.0</td>\n",
       "      <td>Pave</td>\n",
       "      <td>NaN</td>\n",
       "      <td>Reg</td>\n",
       "      <td>Lvl</td>\n",
       "      <td>AllPub</td>\n",
       "      <td>...</td>\n",
       "      <td>0</td>\n",
       "      <td>NaN</td>\n",
       "      <td>NaN</td>\n",
       "      <td>NaN</td>\n",
       "      <td>0</td>\n",
       "      <td>8</td>\n",
       "      <td>2007</td>\n",
       "      <td>WD</td>\n",
       "      <td>Normal</td>\n",
       "      <td>175000</td>\n",
       "    </tr>\n",
       "    <tr>\n",
       "      <th>1456</th>\n",
       "      <td>1457</td>\n",
       "      <td>20</td>\n",
       "      <td>RL</td>\n",
       "      <td>85.0</td>\n",
       "      <td>13175.0</td>\n",
       "      <td>Pave</td>\n",
       "      <td>NaN</td>\n",
       "      <td>Reg</td>\n",
       "      <td>Lvl</td>\n",
       "      <td>AllPub</td>\n",
       "      <td>...</td>\n",
       "      <td>0</td>\n",
       "      <td>NaN</td>\n",
       "      <td>MnPrv</td>\n",
       "      <td>NaN</td>\n",
       "      <td>0</td>\n",
       "      <td>2</td>\n",
       "      <td>2010</td>\n",
       "      <td>WD</td>\n",
       "      <td>Normal</td>\n",
       "      <td>210000</td>\n",
       "    </tr>\n",
       "    <tr>\n",
       "      <th>1457</th>\n",
       "      <td>1458</td>\n",
       "      <td>70</td>\n",
       "      <td>RL</td>\n",
       "      <td>66.0</td>\n",
       "      <td>9042.0</td>\n",
       "      <td>Pave</td>\n",
       "      <td>NaN</td>\n",
       "      <td>Reg</td>\n",
       "      <td>Lvl</td>\n",
       "      <td>AllPub</td>\n",
       "      <td>...</td>\n",
       "      <td>0</td>\n",
       "      <td>NaN</td>\n",
       "      <td>GdPrv</td>\n",
       "      <td>Shed</td>\n",
       "      <td>2500</td>\n",
       "      <td>5</td>\n",
       "      <td>2010</td>\n",
       "      <td>WD</td>\n",
       "      <td>Normal</td>\n",
       "      <td>266500</td>\n",
       "    </tr>\n",
       "    <tr>\n",
       "      <th>1458</th>\n",
       "      <td>1459</td>\n",
       "      <td>20</td>\n",
       "      <td>RL</td>\n",
       "      <td>68.0</td>\n",
       "      <td>9717.0</td>\n",
       "      <td>Pave</td>\n",
       "      <td>NaN</td>\n",
       "      <td>Reg</td>\n",
       "      <td>Lvl</td>\n",
       "      <td>AllPub</td>\n",
       "      <td>...</td>\n",
       "      <td>0</td>\n",
       "      <td>NaN</td>\n",
       "      <td>NaN</td>\n",
       "      <td>NaN</td>\n",
       "      <td>0</td>\n",
       "      <td>4</td>\n",
       "      <td>2010</td>\n",
       "      <td>WD</td>\n",
       "      <td>Normal</td>\n",
       "      <td>142125</td>\n",
       "    </tr>\n",
       "    <tr>\n",
       "      <th>1459</th>\n",
       "      <td>1460</td>\n",
       "      <td>20</td>\n",
       "      <td>RL</td>\n",
       "      <td>75.0</td>\n",
       "      <td>9937.0</td>\n",
       "      <td>Pave</td>\n",
       "      <td>NaN</td>\n",
       "      <td>Reg</td>\n",
       "      <td>Lvl</td>\n",
       "      <td>AllPub</td>\n",
       "      <td>...</td>\n",
       "      <td>0</td>\n",
       "      <td>NaN</td>\n",
       "      <td>NaN</td>\n",
       "      <td>NaN</td>\n",
       "      <td>0</td>\n",
       "      <td>6</td>\n",
       "      <td>2008</td>\n",
       "      <td>WD</td>\n",
       "      <td>Normal</td>\n",
       "      <td>147500</td>\n",
       "    </tr>\n",
       "  </tbody>\n",
       "</table>\n",
       "<p>1460 rows × 81 columns</p>\n",
       "</div>"
      ],
      "text/plain": [
       "        Id  MSSubClass MSZoning  LotFrontage  LotArea Street Alley LotShape  \\\n",
       "0        1          60       RL         65.0   8450.0   Pave   NaN      Reg   \n",
       "1        2          20       RL         80.0   9600.0   Pave   NaN      Reg   \n",
       "2        3          60       RL         68.0  11250.0   Pave   NaN      IR1   \n",
       "3        4          70       RL         60.0   9550.0   Pave   NaN      IR1   \n",
       "4        5          60       RL         84.0  14260.0   Pave   NaN      IR1   \n",
       "...    ...         ...      ...          ...      ...    ...   ...      ...   \n",
       "1455  1456          60       RL         62.0   7917.0   Pave   NaN      Reg   \n",
       "1456  1457          20       RL         85.0  13175.0   Pave   NaN      Reg   \n",
       "1457  1458          70       RL         66.0   9042.0   Pave   NaN      Reg   \n",
       "1458  1459          20       RL         68.0   9717.0   Pave   NaN      Reg   \n",
       "1459  1460          20       RL         75.0   9937.0   Pave   NaN      Reg   \n",
       "\n",
       "     LandContour Utilities  ... PoolArea PoolQC  Fence MiscFeature MiscVal  \\\n",
       "0            Lvl    AllPub  ...        0    NaN    NaN         NaN       0   \n",
       "1            Lvl    AllPub  ...        0    NaN    NaN         NaN       0   \n",
       "2            Lvl    AllPub  ...        0    NaN    NaN         NaN       0   \n",
       "3            Lvl    AllPub  ...        0    NaN    NaN         NaN       0   \n",
       "4            Lvl    AllPub  ...        0    NaN    NaN         NaN       0   \n",
       "...          ...       ...  ...      ...    ...    ...         ...     ...   \n",
       "1455         Lvl    AllPub  ...        0    NaN    NaN         NaN       0   \n",
       "1456         Lvl    AllPub  ...        0    NaN  MnPrv         NaN       0   \n",
       "1457         Lvl    AllPub  ...        0    NaN  GdPrv        Shed    2500   \n",
       "1458         Lvl    AllPub  ...        0    NaN    NaN         NaN       0   \n",
       "1459         Lvl    AllPub  ...        0    NaN    NaN         NaN       0   \n",
       "\n",
       "     MoSold YrSold  SaleType  SaleCondition  SalePrice  \n",
       "0         2   2008        WD         Normal     208500  \n",
       "1         5   2007        WD         Normal     181500  \n",
       "2         9   2008        WD         Normal     223500  \n",
       "3         2   2006        WD        Abnorml     140000  \n",
       "4        12   2008        WD         Normal     250000  \n",
       "...     ...    ...       ...            ...        ...  \n",
       "1455      8   2007        WD         Normal     175000  \n",
       "1456      2   2010        WD         Normal     210000  \n",
       "1457      5   2010        WD         Normal     266500  \n",
       "1458      4   2010        WD         Normal     142125  \n",
       "1459      6   2008        WD         Normal     147500  \n",
       "\n",
       "[1460 rows x 81 columns]"
      ]
     },
     "execution_count": 28,
     "metadata": {},
     "output_type": "execute_result"
    }
   ],
   "source": [
    "coerce_schema.validate(home_data)"
   ]
  },
  {
   "cell_type": "markdown",
   "metadata": {
    "pycharm": {
     "name": "#%% md\n"
    }
   },
   "source": [
    "#### 6. DataFrame Schemas - `Strict`"
   ]
  },
  {
   "cell_type": "code",
   "execution_count": 29,
   "metadata": {
    "pycharm": {
     "name": "#%%\n"
    }
   },
   "outputs": [],
   "source": [
    "# Using `strict` we can specify that the dataframe must have the exact columns specified in the schema\n",
    "strict_schema = pa.DataFrameSchema(\n",
    "    columns={\"LotArea\": pa.Column(int), \"YearBuilt\": pa.Column(int)},\n",
    "    strict=True,\n",
    ")"
   ]
  },
  {
   "cell_type": "code",
   "execution_count": 30,
   "metadata": {
    "pycharm": {
     "name": "#%%\n"
    }
   },
   "outputs": [
    {
     "data": {
      "text/html": [
       "<div>\n",
       "<style scoped>\n",
       "    .dataframe tbody tr th:only-of-type {\n",
       "        vertical-align: middle;\n",
       "    }\n",
       "\n",
       "    .dataframe tbody tr th {\n",
       "        vertical-align: top;\n",
       "    }\n",
       "\n",
       "    .dataframe thead th {\n",
       "        text-align: right;\n",
       "    }\n",
       "</style>\n",
       "<table border=\"1\" class=\"dataframe\">\n",
       "  <thead>\n",
       "    <tr style=\"text-align: right;\">\n",
       "      <th></th>\n",
       "      <th>LotArea</th>\n",
       "      <th>YearBuilt</th>\n",
       "    </tr>\n",
       "  </thead>\n",
       "  <tbody>\n",
       "    <tr>\n",
       "      <th>0</th>\n",
       "      <td>8450</td>\n",
       "      <td>2003</td>\n",
       "    </tr>\n",
       "    <tr>\n",
       "      <th>1</th>\n",
       "      <td>9600</td>\n",
       "      <td>1976</td>\n",
       "    </tr>\n",
       "    <tr>\n",
       "      <th>2</th>\n",
       "      <td>11250</td>\n",
       "      <td>2001</td>\n",
       "    </tr>\n",
       "    <tr>\n",
       "      <th>3</th>\n",
       "      <td>9550</td>\n",
       "      <td>1915</td>\n",
       "    </tr>\n",
       "    <tr>\n",
       "      <th>4</th>\n",
       "      <td>14260</td>\n",
       "      <td>2000</td>\n",
       "    </tr>\n",
       "  </tbody>\n",
       "</table>\n",
       "</div>"
      ],
      "text/plain": [
       "   LotArea  YearBuilt\n",
       "0     8450       2003\n",
       "1     9600       1976\n",
       "2    11250       2001\n",
       "3     9550       1915\n",
       "4    14260       2000"
      ]
     },
     "execution_count": 30,
     "metadata": {},
     "output_type": "execute_result"
    }
   ],
   "source": [
    "# Another useful feature is setting `strict` to 'filter' which will filter out any columns that are not in the schema\n",
    "strict_filter_schema = pa.DataFrameSchema(\n",
    "    columns={\"LotArea\": pa.Column(int), \"YearBuilt\": pa.Column(int)},\n",
    "    strict=\"filter\",\n",
    ")\n",
    "filtered_df = strict_filter_schema.validate(home_data)\n",
    "filtered_df.head()"
   ]
  },
  {
   "cell_type": "markdown",
   "metadata": {
    "pycharm": {
     "name": "#%% md\n"
    }
   },
   "source": [
    "### Exercise 1 - DataFrame Schemas"
   ]
  },
  {
   "cell_type": "markdown",
   "metadata": {
    "pycharm": {
     "name": "#%% md\n"
    }
   },
   "source": [
    "Create a pa.DataFrameSchema object for the `home_data` DataFrame. Not all the checks requested were shown above, for some of them you'll need to have a quick search in the Pandera documentation. It should have the following columns and rules:\n",
    "1. Id is a required and unique column of an integer type and cannot be null.\n",
    "2. MSZoning is a non-required column of a string type and can be null. If not null it can only accept these values - 'RL', 'RM', 'C (all)', 'RH' and 'FV'.\n",
    "3. OverallQual is a required column of an integer type, cannot be null and must be in the range 1-10.\n",
    "4. BsmtCond is a non-required column of a string type and can be null. If not null it can only accept a string of a length of 2.\n",
    "\n",
    "Bonus:\n",
    "\n",
    "5. Add the 1stFlrSF and 2ndFlrSF columns to the schema and validate that on average 1stFlrSF>=2ndFlrSF.\n",
    "\n",
    "Create the schema such that it filters out any other columns that are not in the schema.\n"
   ]
  },
  {
   "cell_type": "code",
   "execution_count": null,
   "metadata": {
    "pycharm": {
     "name": "#%%\n"
    }
   },
   "outputs": [],
   "source": [
    "exercise_schema = pa.DataFrameSchema(\n",
    "    columns={\n",
    "        \"Id\": <YOUR ANSWER HERE>,\n",
    "        \"MSZoning\": <YOUR ANSWER HERE>,\n",
    "        \"OverallQual\": <YOUR ANSWER HERE>,\n",
    "        \"BsmtCond\": <YOUR ANSWER HERE>,\n",
    "        \"1stFlrSF\": <YOUR ANSWER HERE>,\n",
    "        \"2ndFlrSF\": <YOUR ANSWER HERE>,\n",
    "    },\n",
    "    strict=<YOUR ANSWER HERE>,\n",
    "    checks=<YOUR ANSWER HERE>,\n",
    ")"
   ]
  },
  {
   "cell_type": "code",
   "execution_count": null,
   "metadata": {
    "pycharm": {
     "name": "#%%\n"
    }
   },
   "outputs": [],
   "source": [
    "exercise_schema.validate(home_data)"
   ]
  },
  {
   "cell_type": "markdown",
   "metadata": {
    "pycharm": {
     "name": "#%% md\n"
    }
   },
   "source": [
    "*Exercise solutions can be found in the exercise solutions file in the current directory.*"
   ]
  },
  {
   "cell_type": "code",
   "execution_count": null,
   "metadata": {
    "pycharm": {
     "name": "#%%\n"
    }
   },
   "outputs": [],
   "source": [
    "#^^^^"
   ]
  }
 ],
 "metadata": {
  "kernelspec": {
   "display_name": "Python 3.8.13 ('pydatalondon2022')",
   "language": "python",
   "name": "python3"
  },
  "language_info": {
   "codemirror_mode": {
    "name": "ipython",
    "version": 3
   },
   "file_extension": ".py",
   "mimetype": "text/x-python",
   "name": "python",
   "nbconvert_exporter": "python",
   "pygments_lexer": "ipython3",
   "version": "3.8.13"
  },
  "vscode": {
   "interpreter": {
    "hash": "a6a19c996a27d3bf996916365ad2336703eb6dad2b2633101ec37e82813581f1"
   }
  }
 },
 "nbformat": 4,
 "nbformat_minor": 1
}
